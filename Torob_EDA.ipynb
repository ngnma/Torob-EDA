{
 "cells": [
  {
   "attachments": {
    "04f31c53-483e-4bae-a4ef-aeed484c3692.png": {
     "image/png": "[encoded data removed]"
    }
   },
   "cell_type": "markdown",
   "id": "08ef7026-8c46-426c-b687-a95985c117e7",
   "metadata": {
    "tags": []
   },
   "source": [
    "<img style=\"float: right;\" src=\"attachment:04f31c53-483e-4bae-a4ef-aeed484c3692.png\">\n",
    "\n",
    "# Exploratory Analysis of Torob Search Data\n",
    "\n",
    "Greetings and a warm welcome from Torob Data Team!\n",
    "\n",
    "We are very excited to share with you the Torob's search data for the task of exploratory data analysis as part of OpenAI Summer School 2022. The data consists of users' search logs as well as their clicks on search results in Torob. It also includes information for a sample of the products and product categories. In this notebook, you will analyze this data and answer some questions with the goal of practicing your data analysis skills (especially the ability to work with Pandas) and also extract insightful information from our users' searches and their interaction with the search results.\n",
    "\n",
    "Note that our original daily search data is very large (you may need gigabytes of RAM and disk space to handle the data of just one day!). So, for practical purposes and due to the size constraints, the original data has been sampled and reduced, and what you'll work with is just a small fraction of the data of one week. \n",
    "\n",
    "The sections marked with a triangular flag (🚩) are those which you need to read and answer. Allright, without further ado let's get started!\n",
    "\n",
    "(NOTE: Here is the link to the guideline document of the project: https://docs.google.com/document/d/1r46gWcSXwvxxpS92cOqqA7pLuX1Vq673rokgwtnafb8/edit?usp=sharing)"
   ]
  },
  {
   "cell_type": "markdown",
   "id": "fade52bf-d9c1-478d-b67c-cde75938b09a",
   "metadata": {},
   "source": [
    "---"
   ]
  },
  {
   "cell_type": "markdown",
   "id": "0585c2a0-1e1e-4d39-8d51-e15ba19c991a",
   "metadata": {},
   "source": [
    "## Import modules/libraries\n",
    "\n",
    "So, as usual, we first need to import the neccessary libraries and modules which we would use:"
   ]
  },
  {
   "cell_type": "code",
   "execution_count": 195,
   "id": "58237104-a28e-4ca4-883b-2f534ee8cc64",
   "metadata": {},
   "outputs": [],
   "source": [
    "import numpy as np\n",
    "import pandas as pd\n",
    "import matplotlib.pyplot as plt"
   ]
  },
  {
   "cell_type": "markdown",
   "id": "f093fda3-f41e-4a78-b18d-5d88a3680f2d",
   "metadata": {},
   "source": [
    "---"
   ]
  },
  {
   "cell_type": "markdown",
   "id": "d5e3e7b2-10e0-4f11-8671-70b47e299af0",
   "metadata": {
    "tags": []
   },
   "source": [
    "## Load and Inspect Data\n",
    "\n",
    "In this section we load the data from given files, and then we take a quick look at their structure and make sure they have been loaded properly."
   ]
  },
  {
   "cell_type": "markdown",
   "id": "74a0b0e7-6c09-4f39-8ee4-1149d9ca48d4",
   "metadata": {},
   "source": [
    "### 🚩Load data from disk\n",
    "\n",
    "First, we need to load the data from disk as Pandas dataframes. There are four different dataframes which need to be loaded:\n",
    "- Search logs, stored in `search_logs.pkl`.\n",
    "- Search click logs, stored in `search_click_logs.pkl`.\n",
    "- Products info, stored in `products.pkl`.\n",
    "- Product categories info, stored in `categories.pkl`.\n",
    "\n",
    "Let's load them all and store each of them in a separate variable:"
   ]
  },
  {
   "cell_type": "markdown",
   "id": "de4f1863-860f-4e85-a59b-1d76423d0761",
   "metadata": {},
   "source": [
    "**Write the answer below:** \\\n",
    "(Hint: Since they are stored as *pickled* files, we can easily use `pd.read_pickle` function.)"
   ]
  },
  {
   "cell_type": "code",
   "execution_count": 196,
   "id": "cedef7aa-0c8f-4761-a1c9-999adb77bdf8",
   "metadata": {},
   "outputs": [],
   "source": [
    "search_logs = pd.read_pickle('search_logs.pkl')\n",
    "search_click_logs = pd.read_pickle('search_click_logs.pkl')\n",
    "products = pd.read_pickle('products.pkl')\n",
    "categories = pd.read_pickle('categories.pkl')"
   ]
  },
  {
   "cell_type": "markdown",
   "id": "09fc00d6-0d63-4087-a7a5-bbcb9a22f022",
   "metadata": {
    "tags": []
   },
   "source": [
    "### 🚩A quick peek at the data\n",
    "\n",
    "To quickly get a feel of the strucure of the data and see if it has been loaded correctly, we can check the first few rows of the dataframes. Let's take a look at the first five rows of each dataframe we loaded in the previous step:"
   ]
  },
  {
   "cell_type": "markdown",
   "id": "0c66d0e0-3e59-4c9b-98c0-c271fbfe7b71",
   "metadata": {},
   "source": [
    "**Write the answer below:** \\\n",
    "(Hint: heads or tails?!) "
   ]
  },
  {
   "cell_type": "code",
   "execution_count": 197,
   "id": "4ade041d-ed7a-4445-ad58-0d9243be2cfc",
   "metadata": {},
   "outputs": [
    {
     "data": {
      "text/html": [
       "<div>\n",
       "<style scoped>\n",
       "    .dataframe tbody tr th:only-of-type {\n",
       "        vertical-align: middle;\n",
       "    }\n",
       "\n",
       "    .dataframe tbody tr th {\n",
       "        vertical-align: top;\n",
       "    }\n",
       "\n",
       "    .dataframe thead th {\n",
       "        text-align: right;\n",
       "    }\n",
       "</style>\n",
       "<table border=\"1\" class=\"dataframe\">\n",
       "  <thead>\n",
       "    <tr style=\"text-align: right;\">\n",
       "      <th></th>\n",
       "      <th>id</th>\n",
       "      <th>title</th>\n",
       "      <th>category_id</th>\n",
       "    </tr>\n",
       "  </thead>\n",
       "  <tbody>\n",
       "    <tr>\n",
       "      <th>0</th>\n",
       "      <td>758287</td>\n",
       "      <td>میکروسکوپ سلسترون مدل 44121</td>\n",
       "      <td>262</td>\n",
       "    </tr>\n",
       "    <tr>\n",
       "      <th>1</th>\n",
       "      <td>7164195</td>\n",
       "      <td>دوربین عکاسی نیکون مدل Nikon D5600 body</td>\n",
       "      <td>1273</td>\n",
       "    </tr>\n",
       "    <tr>\n",
       "      <th>2</th>\n",
       "      <td>3242621</td>\n",
       "      <td>دوچرخه شهری قناری مدل Space Shuttle سایز 16</td>\n",
       "      <td>3882</td>\n",
       "    </tr>\n",
       "    <tr>\n",
       "      <th>3</th>\n",
       "      <td>4277974</td>\n",
       "      <td>دوچرخه سایز 16 مدل  2020 Flying Bear قناری</td>\n",
       "      <td>3882</td>\n",
       "    </tr>\n",
       "    <tr>\n",
       "      <th>4</th>\n",
       "      <td>8671305</td>\n",
       "      <td>دوچرخه 12 قناری مدل JENNY</td>\n",
       "      <td>4320</td>\n",
       "    </tr>\n",
       "  </tbody>\n",
       "</table>\n",
       "</div>"
      ],
      "text/plain": [
       "        id                                        title  category_id\n",
       "0   758287                  میکروسکوپ سلسترون مدل 44121          262\n",
       "1  7164195      دوربین عکاسی نیکون مدل Nikon D5600 body         1273\n",
       "2  3242621  دوچرخه شهری قناری مدل Space Shuttle سایز 16         3882\n",
       "3  4277974   دوچرخه سایز 16 مدل  2020 Flying Bear قناری         3882\n",
       "4  8671305                    دوچرخه 12 قناری مدل JENNY         4320"
      ]
     },
     "execution_count": 197,
     "metadata": {},
     "output_type": "execute_result"
    }
   ],
   "source": [
    "products.head()"
   ]
  },
  {
   "cell_type": "code",
   "execution_count": 198,
   "id": "1e341885-10a1-4c62-9e02-6a5103c514ec",
   "metadata": {},
   "outputs": [
    {
     "name": "stdout",
     "output_type": "stream",
     "text": [
      "<class 'pandas.core.frame.DataFrame'>\n",
      "RangeIndex: 108046 entries, 0 to 108045\n",
      "Data columns (total 3 columns):\n",
      " #   Column       Non-Null Count   Dtype \n",
      "---  ------       --------------   ----- \n",
      " 0   id           108046 non-null  int64 \n",
      " 1   title        108046 non-null  object\n",
      " 2   category_id  108046 non-null  int64 \n",
      "dtypes: int64(2), object(1)\n",
      "memory usage: 2.5+ MB\n"
     ]
    },
    {
     "data": {
      "text/plain": [
       "(None,\n",
       "                  id    category_id\n",
       " count  1.080460e+05  108046.000000\n",
       " mean   5.010806e+06    5074.481711\n",
       " std    2.888687e+06    2940.349482\n",
       " min    1.330000e+02      12.000000\n",
       " 25%    2.507789e+06    2580.000000\n",
       " 50%    5.010880e+06    5000.000000\n",
       " 75%    7.519721e+06    7618.000000\n",
       " max    9.999925e+06    9999.000000)"
      ]
     },
     "execution_count": 198,
     "metadata": {},
     "output_type": "execute_result"
    }
   ],
   "source": [
    "products.info(), products.describe()"
   ]
  },
  {
   "cell_type": "code",
   "execution_count": 199,
   "id": "823c3eed",
   "metadata": {},
   "outputs": [
    {
     "data": {
      "text/html": [
       "<div>\n",
       "<style scoped>\n",
       "    .dataframe tbody tr th:only-of-type {\n",
       "        vertical-align: middle;\n",
       "    }\n",
       "\n",
       "    .dataframe tbody tr th {\n",
       "        vertical-align: top;\n",
       "    }\n",
       "\n",
       "    .dataframe thead th {\n",
       "        text-align: right;\n",
       "    }\n",
       "</style>\n",
       "<table border=\"1\" class=\"dataframe\">\n",
       "  <thead>\n",
       "    <tr style=\"text-align: right;\">\n",
       "      <th></th>\n",
       "      <th>id</th>\n",
       "      <th>raw_query</th>\n",
       "      <th>result</th>\n",
       "      <th>datetime</th>\n",
       "      <th>category_id</th>\n",
       "      <th>user_id</th>\n",
       "    </tr>\n",
       "  </thead>\n",
       "  <tbody>\n",
       "    <tr>\n",
       "      <th>0</th>\n",
       "      <td>qahft</td>\n",
       "      <td>سرویس ملامین نشکن</td>\n",
       "      <td>[7840591, 1784875, 6716428, 6135112, 7103618, ...</td>\n",
       "      <td>2022-05-16 13:17:22.701000+00:00</td>\n",
       "      <td>NaN</td>\n",
       "      <td>MPOHZ</td>\n",
       "    </tr>\n",
       "    <tr>\n",
       "      <th>1</th>\n",
       "      <td>rxcka</td>\n",
       "      <td>جارو برقی</td>\n",
       "      <td>[451703, 8801989, 8977506, 4665205, 5219768, 5...</td>\n",
       "      <td>2022-05-18 11:24:02.385000+00:00</td>\n",
       "      <td>4792.0</td>\n",
       "      <td>NZPJN</td>\n",
       "    </tr>\n",
       "    <tr>\n",
       "      <th>2</th>\n",
       "      <td>fnafq</td>\n",
       "      <td>دسته ps4</td>\n",
       "      <td>[1457782, 5150503, 5921870, 909372, 9738201, 1...</td>\n",
       "      <td>2022-05-14 19:35:31.691000+00:00</td>\n",
       "      <td>NaN</td>\n",
       "      <td>NRMQA</td>\n",
       "    </tr>\n",
       "    <tr>\n",
       "      <th>3</th>\n",
       "      <td>ofpva</td>\n",
       "      <td>کلو تریمازول</td>\n",
       "      <td>[404198, 812389, 339213, 929557, 3632184, 7764...</td>\n",
       "      <td>2022-05-14 18:20:55.328000+00:00</td>\n",
       "      <td>NaN</td>\n",
       "      <td>WRYZT</td>\n",
       "    </tr>\n",
       "    <tr>\n",
       "      <th>4</th>\n",
       "      <td>usiey</td>\n",
       "      <td>قرص فولی کوژن</td>\n",
       "      <td>[8103652, 7283604, 4030781, 4756913, 3259566, ...</td>\n",
       "      <td>2022-05-13 19:50:03.519000+00:00</td>\n",
       "      <td>3196.0</td>\n",
       "      <td>TJLWU</td>\n",
       "    </tr>\n",
       "  </tbody>\n",
       "</table>\n",
       "</div>"
      ],
      "text/plain": [
       "      id          raw_query  \\\n",
       "0  qahft  سرویس ملامین نشکن   \n",
       "1  rxcka          جارو برقی   \n",
       "2  fnafq          دسته ps4    \n",
       "3  ofpva       کلو تریمازول   \n",
       "4  usiey      قرص فولی کوژن   \n",
       "\n",
       "                                              result  \\\n",
       "0  [7840591, 1784875, 6716428, 6135112, 7103618, ...   \n",
       "1  [451703, 8801989, 8977506, 4665205, 5219768, 5...   \n",
       "2  [1457782, 5150503, 5921870, 909372, 9738201, 1...   \n",
       "3  [404198, 812389, 339213, 929557, 3632184, 7764...   \n",
       "4  [8103652, 7283604, 4030781, 4756913, 3259566, ...   \n",
       "\n",
       "                          datetime  category_id user_id  \n",
       "0 2022-05-16 13:17:22.701000+00:00          NaN   MPOHZ  \n",
       "1 2022-05-18 11:24:02.385000+00:00       4792.0   NZPJN  \n",
       "2 2022-05-14 19:35:31.691000+00:00          NaN   NRMQA  \n",
       "3 2022-05-14 18:20:55.328000+00:00          NaN   WRYZT  \n",
       "4 2022-05-13 19:50:03.519000+00:00       3196.0   TJLWU  "
      ]
     },
     "execution_count": 199,
     "metadata": {},
     "output_type": "execute_result"
    }
   ],
   "source": [
    "search_logs.head()"
   ]
  },
  {
   "cell_type": "code",
   "execution_count": 200,
   "id": "32f26a90",
   "metadata": {},
   "outputs": [
    {
     "name": "stdout",
     "output_type": "stream",
     "text": [
      "<class 'pandas.core.frame.DataFrame'>\n",
      "RangeIndex: 539289 entries, 0 to 539288\n",
      "Data columns (total 6 columns):\n",
      " #   Column       Non-Null Count   Dtype              \n",
      "---  ------       --------------   -----              \n",
      " 0   id           539289 non-null  object             \n",
      " 1   raw_query    539289 non-null  object             \n",
      " 2   result       539289 non-null  object             \n",
      " 3   datetime     539289 non-null  datetime64[ns, UTC]\n",
      " 4   category_id  129240 non-null  float64            \n",
      " 5   user_id      539289 non-null  object             \n",
      "dtypes: datetime64[ns, UTC](1), float64(1), object(4)\n",
      "memory usage: 24.7+ MB\n"
     ]
    },
    {
     "data": {
      "text/plain": [
       "(None,\n",
       "          category_id\n",
       " count  129240.000000\n",
       " mean     4557.751261\n",
       " std      2814.841438\n",
       " min         2.000000\n",
       " 25%      2580.000000\n",
       " 50%      4003.000000\n",
       " 75%      6963.000000\n",
       " max      9998.000000)"
      ]
     },
     "execution_count": 200,
     "metadata": {},
     "output_type": "execute_result"
    }
   ],
   "source": [
    "search_logs.info(), search_logs.describe()"
   ]
  },
  {
   "cell_type": "code",
   "execution_count": 201,
   "id": "5517ab9a-daca-432f-9dce-ad53aa60d745",
   "metadata": {},
   "outputs": [
    {
     "data": {
      "text/html": [
       "<div>\n",
       "<style scoped>\n",
       "    .dataframe tbody tr th:only-of-type {\n",
       "        vertical-align: middle;\n",
       "    }\n",
       "\n",
       "    .dataframe tbody tr th {\n",
       "        vertical-align: top;\n",
       "    }\n",
       "\n",
       "    .dataframe thead th {\n",
       "        text-align: right;\n",
       "    }\n",
       "</style>\n",
       "<table border=\"1\" class=\"dataframe\">\n",
       "  <thead>\n",
       "    <tr style=\"text-align: right;\">\n",
       "      <th></th>\n",
       "      <th>id</th>\n",
       "      <th>datetime</th>\n",
       "      <th>search_id</th>\n",
       "      <th>rank</th>\n",
       "    </tr>\n",
       "  </thead>\n",
       "  <tbody>\n",
       "    <tr>\n",
       "      <th>0</th>\n",
       "      <td>jstyz</td>\n",
       "      <td>2022-05-13 19:30:14.030000+00:00</td>\n",
       "      <td>iitnm</td>\n",
       "      <td>1</td>\n",
       "    </tr>\n",
       "    <tr>\n",
       "      <th>1</th>\n",
       "      <td>ewusk</td>\n",
       "      <td>2022-05-13 19:30:24.290000+00:00</td>\n",
       "      <td>scjlb</td>\n",
       "      <td>2</td>\n",
       "    </tr>\n",
       "    <tr>\n",
       "      <th>2</th>\n",
       "      <td>osnio</td>\n",
       "      <td>2022-05-13 19:30:24.394000+00:00</td>\n",
       "      <td>ohuqq</td>\n",
       "      <td>6</td>\n",
       "    </tr>\n",
       "    <tr>\n",
       "      <th>3</th>\n",
       "      <td>expgi</td>\n",
       "      <td>2022-05-13 19:30:30.500000+00:00</td>\n",
       "      <td>pzrcn</td>\n",
       "      <td>3</td>\n",
       "    </tr>\n",
       "    <tr>\n",
       "      <th>4</th>\n",
       "      <td>srgdy</td>\n",
       "      <td>2022-05-13 19:30:32.884000+00:00</td>\n",
       "      <td>mhlmr</td>\n",
       "      <td>5</td>\n",
       "    </tr>\n",
       "  </tbody>\n",
       "</table>\n",
       "</div>"
      ],
      "text/plain": [
       "      id                         datetime search_id  rank\n",
       "0  jstyz 2022-05-13 19:30:14.030000+00:00     iitnm     1\n",
       "1  ewusk 2022-05-13 19:30:24.290000+00:00     scjlb     2\n",
       "2  osnio 2022-05-13 19:30:24.394000+00:00     ohuqq     6\n",
       "3  expgi 2022-05-13 19:30:30.500000+00:00     pzrcn     3\n",
       "4  srgdy 2022-05-13 19:30:32.884000+00:00     mhlmr     5"
      ]
     },
     "execution_count": 201,
     "metadata": {},
     "output_type": "execute_result"
    }
   ],
   "source": [
    "search_click_logs.head()"
   ]
  },
  {
   "cell_type": "code",
   "execution_count": 202,
   "id": "a01d412a-abc2-4bf4-bfe6-d23caa4cfbce",
   "metadata": {},
   "outputs": [
    {
     "name": "stdout",
     "output_type": "stream",
     "text": [
      "<class 'pandas.core.frame.DataFrame'>\n",
      "RangeIndex: 295692 entries, 0 to 295691\n",
      "Data columns (total 4 columns):\n",
      " #   Column     Non-Null Count   Dtype              \n",
      "---  ------     --------------   -----              \n",
      " 0   id         295692 non-null  object             \n",
      " 1   datetime   295692 non-null  datetime64[ns, UTC]\n",
      " 2   search_id  295692 non-null  object             \n",
      " 3   rank       295692 non-null  int64              \n",
      "dtypes: datetime64[ns, UTC](1), int64(1), object(2)\n",
      "memory usage: 9.0+ MB\n"
     ]
    },
    {
     "data": {
      "text/plain": [
       "(None,\n",
       "                 rank\n",
       " count  295692.000000\n",
       " mean        2.670485\n",
       " std         2.716467\n",
       " min         0.000000\n",
       " 25%         0.000000\n",
       " 50%         2.000000\n",
       " 75%         4.000000\n",
       " max         9.000000)"
      ]
     },
     "execution_count": 202,
     "metadata": {},
     "output_type": "execute_result"
    }
   ],
   "source": [
    "search_click_logs.info(), search_click_logs.describe()"
   ]
  },
  {
   "cell_type": "code",
   "execution_count": 203,
   "metadata": {},
   "outputs": [
    {
     "data": {
      "text/html": [
       "<div>\n",
       "<style scoped>\n",
       "    .dataframe tbody tr th:only-of-type {\n",
       "        vertical-align: middle;\n",
       "    }\n",
       "\n",
       "    .dataframe tbody tr th {\n",
       "        vertical-align: top;\n",
       "    }\n",
       "\n",
       "    .dataframe thead th {\n",
       "        text-align: right;\n",
       "    }\n",
       "</style>\n",
       "<table border=\"1\" class=\"dataframe\">\n",
       "  <thead>\n",
       "    <tr style=\"text-align: right;\">\n",
       "      <th></th>\n",
       "      <th>title</th>\n",
       "      <th>id</th>\n",
       "      <th>parent_category_id</th>\n",
       "    </tr>\n",
       "  </thead>\n",
       "  <tbody>\n",
       "    <tr>\n",
       "      <th>0</th>\n",
       "      <td>گوشی موبایل</td>\n",
       "      <td>2580</td>\n",
       "      <td>175.0</td>\n",
       "    </tr>\n",
       "    <tr>\n",
       "      <th>1</th>\n",
       "      <td>تبلت</td>\n",
       "      <td>9458</td>\n",
       "      <td>175.0</td>\n",
       "    </tr>\n",
       "    <tr>\n",
       "      <th>2</th>\n",
       "      <td>هدفون، هدست و هندزفری</td>\n",
       "      <td>1092</td>\n",
       "      <td>175.0</td>\n",
       "    </tr>\n",
       "    <tr>\n",
       "      <th>3</th>\n",
       "      <td>لوازم جانبی موبایل و تبلت</td>\n",
       "      <td>8192</td>\n",
       "      <td>175.0</td>\n",
       "    </tr>\n",
       "    <tr>\n",
       "      <th>4</th>\n",
       "      <td>قطعات موبایل و تبلت</td>\n",
       "      <td>3596</td>\n",
       "      <td>175.0</td>\n",
       "    </tr>\n",
       "  </tbody>\n",
       "</table>\n",
       "</div>"
      ],
      "text/plain": [
       "                       title    id  parent_category_id\n",
       "0                گوشی موبایل  2580               175.0\n",
       "1                       تبلت  9458               175.0\n",
       "2      هدفون، هدست و هندزفری  1092               175.0\n",
       "3  لوازم جانبی موبایل و تبلت  8192               175.0\n",
       "4        قطعات موبایل و تبلت  3596               175.0"
      ]
     },
     "execution_count": 203,
     "metadata": {},
     "output_type": "execute_result"
    }
   ],
   "source": [
    "categories.head()"
   ]
  },
  {
   "cell_type": "code",
   "execution_count": 204,
   "id": "725fa1ab",
   "metadata": {},
   "outputs": [
    {
     "name": "stdout",
     "output_type": "stream",
     "text": [
      "<class 'pandas.core.frame.DataFrame'>\n",
      "RangeIndex: 3137 entries, 0 to 3136\n",
      "Data columns (total 3 columns):\n",
      " #   Column              Non-Null Count  Dtype  \n",
      "---  ------              --------------  -----  \n",
      " 0   title               3137 non-null   object \n",
      " 1   id                  3137 non-null   int64  \n",
      " 2   parent_category_id  3118 non-null   float64\n",
      "dtypes: float64(1), int64(1), object(1)\n",
      "memory usage: 73.6+ KB\n"
     ]
    },
    {
     "data": {
      "text/plain": [
       "(None,\n",
       "                 id  parent_category_id\n",
       " count  3137.000000         3118.000000\n",
       " mean   5032.298055         1685.333226\n",
       " std    2910.141941         1356.926306\n",
       " min       2.000000           13.000000\n",
       " 25%    2518.000000          333.000000\n",
       " 50%    5018.000000         1580.000000\n",
       " 75%    7523.000000         2838.000000\n",
       " max    9999.000000         4333.000000)"
      ]
     },
     "execution_count": 204,
     "metadata": {},
     "output_type": "execute_result"
    }
   ],
   "source": [
    "categories.info(), categories.describe()"
   ]
  },
  {
   "cell_type": "markdown",
   "id": "5a441b8a-7098-4c96-82e9-568a8096d014",
   "metadata": {},
   "source": [
    "---"
   ]
  },
  {
   "cell_type": "markdown",
   "id": "9b074fc3-710c-4cd8-afcd-ac8ee0b9e9ff",
   "metadata": {},
   "source": [
    "## Data Validation\n",
    "\n",
    "Before starting our analysis, it's a good practice to validate the consistency of the data values and constraints with our expectations. There are various validity checks that could be done, and below we give you two examples."
   ]
  },
  {
   "cell_type": "markdown",
   "id": "b10cfa25-2316-442c-8a05-29ab6f2914fc",
   "metadata": {
    "tags": []
   },
   "source": [
    "### 🚩Validate uniquness of ID columns\n",
    "\n",
    "For example, we can confirm whether all the unique ID columns (i.e. `id` column) have no duplicate values for all the dataframes we have. Let's check this for all the four dataframes:"
   ]
  },
  {
   "cell_type": "markdown",
   "id": "ad9f7982-de77-4a36-bae2-81223c2017c3",
   "metadata": {},
   "source": [
    "**Write the answer below:**"
   ]
  },
  {
   "cell_type": "code",
   "execution_count": 205,
   "id": "2a4ff33a-8a91-48d2-b47a-2badb8ccef2d",
   "metadata": {},
   "outputs": [
    {
     "name": "stdout",
     "output_type": "stream",
     "text": [
      "Unique test validation for products = True\n",
      "Unique test validation for search_logs = True\n",
      "Unique test validation for search_click_logs = True\n",
      "Unique test validation for categories = True\n"
     ]
    }
   ],
   "source": [
    "print('Unique test validation for products =', not products['id'].duplicated().any())\n",
    "print('Unique test validation for search_logs =', not search_logs['id'].duplicated().any())\n",
    "print('Unique test validation for search_click_logs =', not search_click_logs['id'].duplicated().any())\n",
    "print('Unique test validation for categories =', not categories['id'].duplicated().any())"
   ]
  },
  {
   "cell_type": "markdown",
   "id": "29761e60-4006-4019-a269-3aa5fb8a8097",
   "metadata": {},
   "source": [
    "### 🚩Validate all the search clicks have a valid rank value\n",
    "\n",
    "Here, we would like to check two things about the rank of search click records: 1) they have no NaN value, 2) they are all between 0 and 9 (because searches have at most 10 results). Let's do these checks:"
   ]
  },
  {
   "cell_type": "markdown",
   "id": "a51d1afd-e4f3-4056-8d04-c387444962bd",
   "metadata": {},
   "source": [
    "**Write the answer below:**"
   ]
  },
  {
   "cell_type": "code",
   "execution_count": 206,
   "id": "3dd1c351-4298-4455-ac64-5f64b96848f5",
   "metadata": {},
   "outputs": [
    {
     "name": "stdout",
     "output_type": "stream",
     "text": [
      "Any NaN value = False\n",
      "All Between 0 and 9 = True\n"
     ]
    }
   ],
   "source": [
    "print('Any NaN value =',search_click_logs['rank'].isnull().values.any())\n",
    "print('All Between 0 and 9 =',search_click_logs['rank'].between(0,10).all())"
   ]
  },
  {
   "cell_type": "markdown",
   "id": "f0564ad2-ba53-4b7c-87b4-1a17ed4a1e6d",
   "metadata": {},
   "source": [
    "---"
   ]
  },
  {
   "cell_type": "markdown",
   "id": "f649f30d-f971-4a45-90cf-6103149b31b9",
   "metadata": {
    "tags": []
   },
   "source": [
    "## Exploratory Data Analysis (EDA)\n",
    "\n",
    "Now that we have loaded the data, we are ready to start the processing and analysis of our data."
   ]
  },
  {
   "cell_type": "markdown",
   "id": "a5c5b0fb-5c65-42da-868b-7783933cc5ba",
   "metadata": {
    "tags": []
   },
   "source": [
    "### 🚩Number of searches and search clicks\n",
    "\n",
    "The most basic stat we can get from our data is the number of searches and search clicks we have. Let's find and print them:"
   ]
  },
  {
   "cell_type": "markdown",
   "id": "36a3a791-cd0a-4fb9-ad55-ba61356c5b09",
   "metadata": {},
   "source": [
    "**Write the answer below:**"
   ]
  },
  {
   "cell_type": "code",
   "execution_count": 207,
   "id": "c9e03c0b-4e03-4b4a-bca2-9446434349d7",
   "metadata": {},
   "outputs": [
    {
     "name": "stdout",
     "output_type": "stream",
     "text": [
      "Number of searchs = 539289\n",
      "Number of search clicks = 295692\n"
     ]
    }
   ],
   "source": [
    "print('Number of searchs =',len(search_logs))\n",
    "print('Number of search clicks =',search_click_logs['id'].count())\n"
   ]
  },
  {
   "cell_type": "markdown",
   "id": "b8e0fe09-7a3f-4926-bf3c-4433cdc08002",
   "metadata": {},
   "source": [
    "### 🚩Number of unique search queries\n",
    "\n",
    "We can also calculate the number of unique search queries."
   ]
  },
  {
   "cell_type": "markdown",
   "id": "98e017c5-c22e-4837-a893-20066542b7ba",
   "metadata": {},
   "source": [
    "**Write the answer below:**"
   ]
  },
  {
   "cell_type": "code",
   "execution_count": 208,
   "id": "39d84e83-8a1a-4a33-9c96-bf4a8fb8ea0d",
   "metadata": {},
   "outputs": [
    {
     "name": "stdout",
     "output_type": "stream",
     "text": [
      "Number of unique search queries = 260193\n"
     ]
    }
   ],
   "source": [
    "print('Number of unique search queries =',len(np.unique(search_logs['raw_query'])))"
   ]
  },
  {
   "cell_type": "markdown",
   "id": "6da1fe55-d215-49e6-bea4-4678cbd69449",
   "metadata": {},
   "source": [
    "### 🚩Number of unique users\n",
    "\n",
    "Another basic stat is the number of unique users who searched on Torob. We can use `user_id` column to calculate this:"
   ]
  },
  {
   "cell_type": "markdown",
   "id": "ec8679da-d9b1-46aa-ba2d-8791dfb4251c",
   "metadata": {},
   "source": [
    "**Write the answer below:**"
   ]
  },
  {
   "cell_type": "code",
   "execution_count": 209,
   "id": "abac1487-d97e-406a-84ce-30d92eee481e",
   "metadata": {},
   "outputs": [
    {
     "name": "stdout",
     "output_type": "stream",
     "text": [
      "Number of unique users who searched on Torob = 311083\n"
     ]
    }
   ],
   "source": [
    "print('Number of unique users who searched on Torob =',len(np.unique(search_logs['user_id'])))"
   ]
  },
  {
   "cell_type": "markdown",
   "id": "4fcac2f9-b364-4216-9c78-7952048472f3",
   "metadata": {
    "tags": []
   },
   "source": [
    "### 🚩Most frequent search queries\n",
    "\n",
    "We would like to know which search queries are the most popular (i.e. most frequent). We can use the \"search logs\" data to find the answer. Find the top 20 most searched queries along with their number of searches:"
   ]
  },
  {
   "cell_type": "markdown",
   "id": "b8ec3e4f-3921-4875-87c3-9cf270dc6978",
   "metadata": {},
   "source": [
    "**Write the answer below:**"
   ]
  },
  {
   "cell_type": "code",
   "execution_count": 238,
   "id": "11dd77b0",
   "metadata": {},
   "outputs": [
    {
     "data": {
      "text/plain": [
       "raw_query\n",
       "iphone           7626\n",
       "دلار امریکا      3240\n",
       "کفش              3211\n",
       "روغن             2956\n",
       "لپ تاپ ایسوس     1940\n",
       "دوربین عکاسی     1929\n",
       "شیر              1781\n",
       "دوچرخه 26        1689\n",
       "xbox series s    1617\n",
       "لباس عروس        1577\n",
       "گوشی             1454\n",
       "روغن موتور       1333\n",
       "ماکروویو         1196\n",
       "xiaomi 12 pro    1083\n",
       "کاغذ a4          1012\n",
       "تلویزیون          843\n",
       "گوشی سامسونگ      812\n",
       "دوچرخه            807\n",
       "یخچال             789\n",
       "روغن خوراکی       787\n",
       "Name: id, dtype: int64"
      ]
     },
     "execution_count": 238,
     "metadata": {},
     "output_type": "execute_result"
    },
    {
     "data": {
      "image/png": "[encoded data removed]",
      "text/plain": [
       "<Figure size 1152x288 with 1 Axes>"
      ]
     },
     "metadata": {
      "needs_background": "light"
     },
     "output_type": "display_data"
    }
   ],
   "source": [
    "from turtle import color\n",
    "\n",
    "top20 = search_logs.groupby('raw_query').count().sort_values(by='id',ascending=False)['id'].head(20)\n",
    "top20.plot.bar(figsize=(16,4), color='orange').grid()\n",
    "top20"
   ]
  },
  {
   "cell_type": "markdown",
   "id": "a826f78a-01a8-4d5a-a1da-524f814e6794",
   "metadata": {},
   "source": [
    "### 🚩Distribution of length of search queries\n",
    "\n",
    "We expect that the majority of search queries consist of at most three words. Let's confirm our expectation by calculating the number of words in each search query and then aggregate these values to see how the length of queries is distributed (i.e. find the distribution of number of words in search queries):"
   ]
  },
  {
   "cell_type": "markdown",
   "id": "0151cf2b-17aa-477f-8d90-c9940fa9953e",
   "metadata": {},
   "source": [
    "**Write the answer below:**  \n",
    "(Hint: for the sake of simplicity, you can assume that in each search query the words are separated from each other by one or more whitespace characters. Yes, we know this is a simplification and has errors, but it's a good approximation. Further, note that the `str` acessor in Pandas gives you a lot of good methods for processing columns of type string and list.)"
   ]
  },
  {
   "cell_type": "code",
   "execution_count": 211,
   "id": "4d86acba-45dd-45c2-8e6a-b8275cb51803",
   "metadata": {},
   "outputs": [
    {
     "data": {
      "text/plain": [
       "[(1, 133004),\n",
       " (2, 205515),\n",
       " (3, 146307),\n",
       " (4, 46853),\n",
       " (5, 6926),\n",
       " (6, 627),\n",
       " (7, 48),\n",
       " (8, 5),\n",
       " (9, 3),\n",
       " (12, 1)]"
      ]
     },
     "execution_count": 211,
     "metadata": {},
     "output_type": "execute_result"
    }
   ],
   "source": [
    "u_len, c_len = np.unique(search_logs['raw_query'].str.split(' ').str.len(), return_counts=True)\n",
    "[(u_len[i], c_len[i]) for i in range(len(u_len))]"
   ]
  },
  {
   "cell_type": "code",
   "execution_count": 212,
   "id": "ac2426e1",
   "metadata": {},
   "outputs": [
    {
     "data": {
      "image/png": "[encoded data removed]",
      "text/plain": [
       "<Figure size 864x288 with 1 Axes>"
      ]
     },
     "metadata": {
      "needs_background": "light"
     },
     "output_type": "display_data"
    }
   ],
   "source": [
    "plt.subplots(figsize=(12, 4))\n",
    "plt.plot(u_len, c_len, marker='o', c='g')\n",
    "plt.xlabel('number of words')\n",
    "plt.ylabel('counts in queries')\n",
    "plt.title('Distribution of length of search queries')\n",
    "plt.grid()\n",
    "plt.show()"
   ]
  },
  {
   "cell_type": "markdown",
   "id": "12d23d55-81b4-4f47-a8be-25a3e5bec123",
   "metadata": {
    "tags": []
   },
   "source": [
    "### 🚩Most common words in search queries\n",
    "\n",
    "Which words were most commonly used in the search queries? Find the top 20 most common words along with their number of occurrences in search queries:"
   ]
  },
  {
   "cell_type": "markdown",
   "id": "f1184224-d79e-417e-86b4-827bf3d2e8b1",
   "metadata": {},
   "source": [
    "**Write the answer below:**  \n",
    "(Hint: split + explode!!!)"
   ]
  },
  {
   "cell_type": "code",
   "execution_count": 213,
   "id": "49a93e00",
   "metadata": {},
   "outputs": [
    {
     "data": {
      "text/plain": [
       "[('گوشی', 12606),\n",
       " ('روغن', 11010),\n",
       " ('iphone', 9228),\n",
       " ('موتور', 8039),\n",
       " ('کفش', 7933),\n",
       " ('pro', 6381),\n",
       " ('دوچرخه', 6094),\n",
       " ('سامسونگ', 5598),\n",
       " ('لباس', 5334),\n",
       " ('ماشین', 5266),\n",
       " ('ساعت', 5132),\n",
       " ('پراید', 5108),\n",
       " ('کولر', 4777),\n",
       " ('ای', 4418),\n",
       " ('برقی', 4400),\n",
       " ('تاپ', 4179),\n",
       " ('مردانه', 4096),\n",
       " ('یخچال', 4040),\n",
       " ('دوربین', 4026),\n",
       " ('لپ', 3987)]"
      ]
     },
     "execution_count": 213,
     "metadata": {},
     "output_type": "execute_result"
    }
   ],
   "source": [
    "temp = search_logs['raw_query'].str.split(' ')\n",
    "bag_of_word={}\n",
    "for row in temp:\n",
    "    for word in row:\n",
    "        if not word in bag_of_word:\n",
    "            bag_of_word[word] = 0\n",
    "        bag_of_word[word] = bag_of_word[word] + 1\n",
    "\n",
    "sorted(bag_of_word.items(), key=lambda x: x[1], reverse=True)[1:21]"
   ]
  },
  {
   "cell_type": "markdown",
   "id": "904a3414-33b1-495e-a917-a8dced4ae7ed",
   "metadata": {
    "tags": []
   },
   "source": [
    "### 🚩Localize date and time values\n",
    "\n",
    "Currently, the date & time values in the search and search-click dataframes are stored in UTC timezone. This is a best-pratice to store timestamp values in UTC when the data is stored in databases; however, for our next time-based analyses to be more understandable, we need to convert them all to Tehran timezone.\n",
    "\n",
    "Convert and replace the `datetime` columns in both search and search-click dataframes:"
   ]
  },
  {
   "cell_type": "markdown",
   "id": "78602831-ce6e-4246-af72-35f1857fe338",
   "metadata": {},
   "source": [
    "**Write the answer below:**  \n",
    "(Hint: in Pandas, datetime columns have a `dt` accessor which offers some methods for manipulation of datetime values. Here, you should look for `tz_convert` method and use `'Asia/Tehran'` as the timezone.)"
   ]
  },
  {
   "cell_type": "code",
   "execution_count": 214,
   "id": "30c0903a-8ff0-437c-add6-2c0f664679f2",
   "metadata": {},
   "outputs": [],
   "source": [
    "search_logs['datetime_tehran'] = search_logs['datetime'].dt.tz_convert('Asia/Tehran')\n",
    "search_click_logs['datetime_tehran'] = search_click_logs['datetime'].dt.tz_convert('Asia/Tehran')"
   ]
  },
  {
   "cell_type": "markdown",
   "id": "42c81965-7584-41d0-9b52-640836bacf82",
   "metadata": {
    "tags": []
   },
   "source": [
    "### 🚩Number of searches and search-clicks per weekday\n",
    "\n",
    "Now that we have converted the datetime to Tehran timezone, we are interested to know how many searches and search-clicks exist per weekday (i.e. Saturday, Sunday, Monday, etc.). We expect that both of these numbers to be a bit lower on weekends (i.e. Thursday and Friday).\n",
    "\n",
    "Calculate the number of searches and search-clicks per weekday and plot both alongside each other in a single bar plot:"
   ]
  },
  {
   "cell_type": "markdown",
   "id": "88f6b2f7-a997-4088-ae50-e9163b9d5213",
   "metadata": {},
   "source": [
    "**Write the answer below:**  \n",
    "(Hint: again, you can use the methods which exist via `dt` accessor to get the weekday of datetime values. As a challenge, try to write all the calculations and plotting in just a single python statement by using method chaining... a lot!)"
   ]
  },
  {
   "cell_type": "code",
   "execution_count": 215,
   "id": "4267588e",
   "metadata": {},
   "outputs": [
    {
     "data": {
      "text/html": [
       "<div>\n",
       "<style scoped>\n",
       "    .dataframe tbody tr th:only-of-type {\n",
       "        vertical-align: middle;\n",
       "    }\n",
       "\n",
       "    .dataframe tbody tr th {\n",
       "        vertical-align: top;\n",
       "    }\n",
       "\n",
       "    .dataframe thead th {\n",
       "        text-align: right;\n",
       "    }\n",
       "</style>\n",
       "<table border=\"1\" class=\"dataframe\">\n",
       "  <thead>\n",
       "    <tr style=\"text-align: right;\">\n",
       "      <th></th>\n",
       "      <th>search</th>\n",
       "      <th>click</th>\n",
       "    </tr>\n",
       "    <tr>\n",
       "      <th>datetime</th>\n",
       "      <th></th>\n",
       "      <th></th>\n",
       "    </tr>\n",
       "  </thead>\n",
       "  <tbody>\n",
       "    <tr>\n",
       "      <th>Friday</th>\n",
       "      <td>74187</td>\n",
       "      <td>41024</td>\n",
       "    </tr>\n",
       "    <tr>\n",
       "      <th>Monday</th>\n",
       "      <td>78119</td>\n",
       "      <td>42949</td>\n",
       "    </tr>\n",
       "    <tr>\n",
       "      <th>Saturday</th>\n",
       "      <td>79183</td>\n",
       "      <td>43580</td>\n",
       "    </tr>\n",
       "    <tr>\n",
       "      <th>Sunday</th>\n",
       "      <td>76825</td>\n",
       "      <td>41940</td>\n",
       "    </tr>\n",
       "    <tr>\n",
       "      <th>Thursday</th>\n",
       "      <td>74550</td>\n",
       "      <td>41032</td>\n",
       "    </tr>\n",
       "    <tr>\n",
       "      <th>Tuesday</th>\n",
       "      <td>78858</td>\n",
       "      <td>42556</td>\n",
       "    </tr>\n",
       "    <tr>\n",
       "      <th>Wednesday</th>\n",
       "      <td>77567</td>\n",
       "      <td>42611</td>\n",
       "    </tr>\n",
       "  </tbody>\n",
       "</table>\n",
       "</div>"
      ],
      "text/plain": [
       "           search  click\n",
       "datetime                \n",
       "Friday      74187  41024\n",
       "Monday      78119  42949\n",
       "Saturday    79183  43580\n",
       "Sunday      76825  41940\n",
       "Thursday    74550  41032\n",
       "Tuesday     78858  42556\n",
       "Wednesday   77567  42611"
      ]
     },
     "execution_count": 215,
     "metadata": {},
     "output_type": "execute_result"
    },
    {
     "data": {
      "image/png": "[encoded data removed]",
      "text/plain": [
       "<Figure size 432x288 with 1 Axes>"
      ]
     },
     "metadata": {
      "needs_background": "light"
     },
     "output_type": "display_data"
    }
   ],
   "source": [
    "data = pd.concat( [i.groupby(i['datetime'].dt.day_name()).id.count() for i in [search_logs, search_click_logs]], axis=1, keys=['search','click'])\n",
    "data.plot.bar().legend(loc='upper right')\n",
    "data"
   ]
  },
  {
   "cell_type": "markdown",
   "id": "c16dce97-ac29-44a7-8bd3-bed31ca7e5b9",
   "metadata": {
    "tags": []
   },
   "source": [
    "### 🚩Number of searches and search-clicks per hour of day\n",
    "\n",
    "Next, we would like to know which hour during the day has the most search traffic.\n",
    "\n",
    "Calculate the number of searches and search-clicks per hour and plot both alongside each other in a single bar plot (note that we are just interested in the hour regardless of the specific day; so the result should be aggregated based on hour **over all the days**):"
   ]
  },
  {
   "cell_type": "markdown",
   "id": "550e810e-9e8a-4377-a347-a2d53779c1e8",
   "metadata": {},
   "source": [
    "**Write the answer below:**  \n",
    "(Hint: again, `dt` accessor is your friend here as well!)"
   ]
  },
  {
   "cell_type": "code",
   "execution_count": 216,
   "id": "cbe17079-54c4-47c8-b46d-30a9f3227d99",
   "metadata": {},
   "outputs": [],
   "source": [
    "search_logs['hour'] = search_logs['datetime_tehran'].dt.hour\n",
    "search_click_logs['hour'] = search_click_logs['datetime_tehran'].dt.hour"
   ]
  },
  {
   "cell_type": "code",
   "execution_count": 217,
   "id": "b8f106c6",
   "metadata": {},
   "outputs": [
    {
     "data": {
      "text/html": [
       "<div>\n",
       "<style scoped>\n",
       "    .dataframe tbody tr th:only-of-type {\n",
       "        vertical-align: middle;\n",
       "    }\n",
       "\n",
       "    .dataframe tbody tr th {\n",
       "        vertical-align: top;\n",
       "    }\n",
       "\n",
       "    .dataframe thead th {\n",
       "        text-align: right;\n",
       "    }\n",
       "</style>\n",
       "<table border=\"1\" class=\"dataframe\">\n",
       "  <thead>\n",
       "    <tr style=\"text-align: right;\">\n",
       "      <th></th>\n",
       "      <th>search</th>\n",
       "      <th>click</th>\n",
       "    </tr>\n",
       "    <tr>\n",
       "      <th>hour</th>\n",
       "      <th></th>\n",
       "      <th></th>\n",
       "    </tr>\n",
       "  </thead>\n",
       "  <tbody>\n",
       "    <tr>\n",
       "      <th>0</th>\n",
       "      <td>16868</td>\n",
       "      <td>30132</td>\n",
       "    </tr>\n",
       "    <tr>\n",
       "      <th>1</th>\n",
       "      <td>12413</td>\n",
       "      <td>22275</td>\n",
       "    </tr>\n",
       "    <tr>\n",
       "      <th>2</th>\n",
       "      <td>7491</td>\n",
       "      <td>13611</td>\n",
       "    </tr>\n",
       "    <tr>\n",
       "      <th>3</th>\n",
       "      <td>4253</td>\n",
       "      <td>8016</td>\n",
       "    </tr>\n",
       "    <tr>\n",
       "      <th>4</th>\n",
       "      <td>2574</td>\n",
       "      <td>5030</td>\n",
       "    </tr>\n",
       "    <tr>\n",
       "      <th>5</th>\n",
       "      <td>1955</td>\n",
       "      <td>3841</td>\n",
       "    </tr>\n",
       "    <tr>\n",
       "      <th>6</th>\n",
       "      <td>2253</td>\n",
       "      <td>4545</td>\n",
       "    </tr>\n",
       "    <tr>\n",
       "      <th>7</th>\n",
       "      <td>3572</td>\n",
       "      <td>6886</td>\n",
       "    </tr>\n",
       "    <tr>\n",
       "      <th>8</th>\n",
       "      <td>5669</td>\n",
       "      <td>11360</td>\n",
       "    </tr>\n",
       "    <tr>\n",
       "      <th>9</th>\n",
       "      <td>8461</td>\n",
       "      <td>16511</td>\n",
       "    </tr>\n",
       "    <tr>\n",
       "      <th>10</th>\n",
       "      <td>11896</td>\n",
       "      <td>22510</td>\n",
       "    </tr>\n",
       "    <tr>\n",
       "      <th>11</th>\n",
       "      <td>13886</td>\n",
       "      <td>26773</td>\n",
       "    </tr>\n",
       "    <tr>\n",
       "      <th>12</th>\n",
       "      <td>16070</td>\n",
       "      <td>29872</td>\n",
       "    </tr>\n",
       "    <tr>\n",
       "      <th>13</th>\n",
       "      <td>16988</td>\n",
       "      <td>30976</td>\n",
       "    </tr>\n",
       "    <tr>\n",
       "      <th>14</th>\n",
       "      <td>17256</td>\n",
       "      <td>31427</td>\n",
       "    </tr>\n",
       "    <tr>\n",
       "      <th>15</th>\n",
       "      <td>16539</td>\n",
       "      <td>30501</td>\n",
       "    </tr>\n",
       "    <tr>\n",
       "      <th>16</th>\n",
       "      <td>15872</td>\n",
       "      <td>28872</td>\n",
       "    </tr>\n",
       "    <tr>\n",
       "      <th>17</th>\n",
       "      <td>15242</td>\n",
       "      <td>28206</td>\n",
       "    </tr>\n",
       "    <tr>\n",
       "      <th>18</th>\n",
       "      <td>15807</td>\n",
       "      <td>28468</td>\n",
       "    </tr>\n",
       "    <tr>\n",
       "      <th>19</th>\n",
       "      <td>15796</td>\n",
       "      <td>28453</td>\n",
       "    </tr>\n",
       "    <tr>\n",
       "      <th>20</th>\n",
       "      <td>17234</td>\n",
       "      <td>30310</td>\n",
       "    </tr>\n",
       "    <tr>\n",
       "      <th>21</th>\n",
       "      <td>18155</td>\n",
       "      <td>32007</td>\n",
       "    </tr>\n",
       "    <tr>\n",
       "      <th>22</th>\n",
       "      <td>19672</td>\n",
       "      <td>34138</td>\n",
       "    </tr>\n",
       "    <tr>\n",
       "      <th>23</th>\n",
       "      <td>19770</td>\n",
       "      <td>34569</td>\n",
       "    </tr>\n",
       "  </tbody>\n",
       "</table>\n",
       "</div>"
      ],
      "text/plain": [
       "      search  click\n",
       "hour               \n",
       "0      16868  30132\n",
       "1      12413  22275\n",
       "2       7491  13611\n",
       "3       4253   8016\n",
       "4       2574   5030\n",
       "5       1955   3841\n",
       "6       2253   4545\n",
       "7       3572   6886\n",
       "8       5669  11360\n",
       "9       8461  16511\n",
       "10     11896  22510\n",
       "11     13886  26773\n",
       "12     16070  29872\n",
       "13     16988  30976\n",
       "14     17256  31427\n",
       "15     16539  30501\n",
       "16     15872  28872\n",
       "17     15242  28206\n",
       "18     15807  28468\n",
       "19     15796  28453\n",
       "20     17234  30310\n",
       "21     18155  32007\n",
       "22     19672  34138\n",
       "23     19770  34569"
      ]
     },
     "execution_count": 217,
     "metadata": {},
     "output_type": "execute_result"
    },
    {
     "data": {
      "image/png": "[encoded data removed]",
      "text/plain": [
       "<Figure size 1440x288 with 1 Axes>"
      ]
     },
     "metadata": {
      "needs_background": "light"
     },
     "output_type": "display_data"
    }
   ],
   "source": [
    "h_data = pd.concat([i.groupby(i['hour']).id.count() for i in [search_click_logs,search_logs]], axis=1, keys=['search','click'])\n",
    "h_data.plot.bar(figsize=(20,4)).grid()\n",
    "h_data"
   ]
  },
  {
   "cell_type": "markdown",
   "id": "3a45dac8-e7bc-4f5c-a556-09f65b102f3c",
   "metadata": {
    "tags": []
   },
   "source": [
    "### 🚩Top 10 most frequent search queries per weekday\n",
    "\n",
    "Now, instead of calculating the most frequent queries over all the timeframe of the data, we would like to find the top 10 most frequent queries per weekday (note that we don't need the number of searches for each query; we are just interested in the queries themeselves)."
   ]
  },
  {
   "cell_type": "markdown",
   "id": "f553734f-9abc-42a2-805e-871e3b01d9b7",
   "metadata": {},
   "source": [
    "**Write the answer below:**  "
   ]
  },
  {
   "cell_type": "code",
   "execution_count": 218,
   "id": "c1f1ef48",
   "metadata": {},
   "outputs": [
    {
     "data": {
      "text/html": [
       "<div>\n",
       "<style scoped>\n",
       "    .dataframe tbody tr th:only-of-type {\n",
       "        vertical-align: middle;\n",
       "    }\n",
       "\n",
       "    .dataframe tbody tr th {\n",
       "        vertical-align: top;\n",
       "    }\n",
       "\n",
       "    .dataframe thead th {\n",
       "        text-align: right;\n",
       "    }\n",
       "</style>\n",
       "<table border=\"1\" class=\"dataframe\">\n",
       "  <thead>\n",
       "    <tr style=\"text-align: right;\">\n",
       "      <th></th>\n",
       "      <th>0</th>\n",
       "      <th>1</th>\n",
       "      <th>2</th>\n",
       "      <th>3</th>\n",
       "      <th>4</th>\n",
       "      <th>5</th>\n",
       "      <th>6</th>\n",
       "      <th>7</th>\n",
       "      <th>8</th>\n",
       "      <th>9</th>\n",
       "    </tr>\n",
       "    <tr>\n",
       "      <th>weekday</th>\n",
       "      <th></th>\n",
       "      <th></th>\n",
       "      <th></th>\n",
       "      <th></th>\n",
       "      <th></th>\n",
       "      <th></th>\n",
       "      <th></th>\n",
       "      <th></th>\n",
       "      <th></th>\n",
       "      <th></th>\n",
       "    </tr>\n",
       "  </thead>\n",
       "  <tbody>\n",
       "    <tr>\n",
       "      <th>Friday</th>\n",
       "      <td>iphone</td>\n",
       "      <td>دلار امریکا</td>\n",
       "      <td>کفش</td>\n",
       "      <td>روغن</td>\n",
       "      <td>دوربین عکاسی</td>\n",
       "      <td>لباس عروس</td>\n",
       "      <td>شیر</td>\n",
       "      <td>لپ تاپ ایسوس</td>\n",
       "      <td>xbox series s</td>\n",
       "      <td>xiaomi 12 pro</td>\n",
       "    </tr>\n",
       "    <tr>\n",
       "      <th>Monday</th>\n",
       "      <td>iphone</td>\n",
       "      <td>دوچرخه 26</td>\n",
       "      <td>روغن</td>\n",
       "      <td>کفش</td>\n",
       "      <td>روغن موتور</td>\n",
       "      <td>لپ تاپ ایسوس</td>\n",
       "      <td>دوربین عکاسی</td>\n",
       "      <td>شیر</td>\n",
       "      <td>xbox series s</td>\n",
       "      <td>گوشی</td>\n",
       "    </tr>\n",
       "    <tr>\n",
       "      <th>Saturday</th>\n",
       "      <td>iphone</td>\n",
       "      <td>روغن</td>\n",
       "      <td>کفش</td>\n",
       "      <td>دوچرخه 26</td>\n",
       "      <td>روغن موتور</td>\n",
       "      <td>دوربین عکاسی</td>\n",
       "      <td>لپ تاپ ایسوس</td>\n",
       "      <td>xbox series s</td>\n",
       "      <td>مبل</td>\n",
       "      <td>گوشی</td>\n",
       "    </tr>\n",
       "    <tr>\n",
       "      <th>Sunday</th>\n",
       "      <td>iphone</td>\n",
       "      <td>روغن خوراکی</td>\n",
       "      <td>دوچرخه 26</td>\n",
       "      <td>روغن</td>\n",
       "      <td>کفش</td>\n",
       "      <td>روغن موتور</td>\n",
       "      <td>لپ تاپ ایسوس</td>\n",
       "      <td>دوربین عکاسی</td>\n",
       "      <td>xbox series s</td>\n",
       "      <td>گوشی</td>\n",
       "    </tr>\n",
       "    <tr>\n",
       "      <th>Thursday</th>\n",
       "      <td>iphone</td>\n",
       "      <td>دلار امریکا</td>\n",
       "      <td>کفش</td>\n",
       "      <td>لباس عروس</td>\n",
       "      <td>شیر</td>\n",
       "      <td>لپ تاپ ایسوس</td>\n",
       "      <td>روغن</td>\n",
       "      <td>دوربین عکاسی</td>\n",
       "      <td>xiaomi 12 pro</td>\n",
       "      <td>کاغذ a4</td>\n",
       "    </tr>\n",
       "    <tr>\n",
       "      <th>Tuesday</th>\n",
       "      <td>iphone</td>\n",
       "      <td>دلار امریکا</td>\n",
       "      <td>کفش</td>\n",
       "      <td>لباس عروس</td>\n",
       "      <td>روغن</td>\n",
       "      <td>شیر</td>\n",
       "      <td>کاغذ a4</td>\n",
       "      <td>xiaomi 12 pro</td>\n",
       "      <td>لپ تاپ ایسوس</td>\n",
       "      <td>دوربین عکاسی</td>\n",
       "    </tr>\n",
       "    <tr>\n",
       "      <th>Wednesday</th>\n",
       "      <td>iphone</td>\n",
       "      <td>دلار امریکا</td>\n",
       "      <td>کفش</td>\n",
       "      <td>شیر</td>\n",
       "      <td>لباس عروس</td>\n",
       "      <td>روغن</td>\n",
       "      <td>xiaomi 12 pro</td>\n",
       "      <td>لپ تاپ ایسوس</td>\n",
       "      <td>کاغذ a4</td>\n",
       "      <td>دوربین عکاسی</td>\n",
       "    </tr>\n",
       "  </tbody>\n",
       "</table>\n",
       "</div>"
      ],
      "text/plain": [
       "                0             1          2          3             4  \\\n",
       "weekday                                                               \n",
       "Friday     iphone  دلار امریکا         کفش       روغن  دوربین عکاسی   \n",
       "Monday     iphone     دوچرخه 26       روغن        کفش    روغن موتور   \n",
       "Saturday   iphone          روغن        کفش  دوچرخه 26    روغن موتور   \n",
       "Sunday     iphone   روغن خوراکی  دوچرخه 26       روغن           کفش   \n",
       "Thursday   iphone  دلار امریکا         کفش  لباس عروس           شیر   \n",
       "Tuesday    iphone  دلار امریکا         کفش  لباس عروس          روغن   \n",
       "Wednesday  iphone  دلار امریکا         کفش        شیر     لباس عروس   \n",
       "\n",
       "                      5              6              7              8  \\\n",
       "weekday                                                                \n",
       "Friday        لباس عروس            شیر   لپ تاپ ایسوس  xbox series s   \n",
       "Monday     لپ تاپ ایسوس   دوربین عکاسی            شیر  xbox series s   \n",
       "Saturday   دوربین عکاسی   لپ تاپ ایسوس  xbox series s            مبل   \n",
       "Sunday       روغن موتور   لپ تاپ ایسوس   دوربین عکاسی  xbox series s   \n",
       "Thursday   لپ تاپ ایسوس           روغن   دوربین عکاسی  xiaomi 12 pro   \n",
       "Tuesday             شیر        کاغذ a4  xiaomi 12 pro   لپ تاپ ایسوس   \n",
       "Wednesday          روغن  xiaomi 12 pro   لپ تاپ ایسوس        کاغذ a4   \n",
       "\n",
       "                       9  \n",
       "weekday                   \n",
       "Friday     xiaomi 12 pro  \n",
       "Monday              گوشی  \n",
       "Saturday            گوشی  \n",
       "Sunday              گوشی  \n",
       "Thursday         کاغذ a4  \n",
       "Tuesday     دوربین عکاسی  \n",
       "Wednesday   دوربین عکاسی  "
      ]
     },
     "execution_count": 218,
     "metadata": {},
     "output_type": "execute_result"
    }
   ],
   "source": [
    "search_logs['weekday'] = search_logs['datetime'].dt.day_name()\n",
    "\n",
    "res = search_logs.pivot_table(index='raw_query',columns='weekday',values='id' ,aggfunc=\"count\")\n",
    "\n",
    "pd.DataFrame([res[i].sort_values(ascending=False).head(10).index for i in res.columns], index=res.columns)\n"
   ]
  },
  {
   "cell_type": "code",
   "execution_count": 236,
   "id": "57d3c2ec",
   "metadata": {},
   "outputs": [
    {
     "data": {
      "text/html": [
       "<div>\n",
       "<style scoped>\n",
       "    .dataframe tbody tr th:only-of-type {\n",
       "        vertical-align: middle;\n",
       "    }\n",
       "\n",
       "    .dataframe tbody tr th {\n",
       "        vertical-align: top;\n",
       "    }\n",
       "\n",
       "    .dataframe thead th {\n",
       "        text-align: right;\n",
       "    }\n",
       "</style>\n",
       "<table border=\"1\" class=\"dataframe\">\n",
       "  <thead>\n",
       "    <tr style=\"text-align: right;\">\n",
       "      <th>weekday</th>\n",
       "      <th>Friday</th>\n",
       "      <th>Monday</th>\n",
       "      <th>Saturday</th>\n",
       "      <th>Sunday</th>\n",
       "      <th>Thursday</th>\n",
       "      <th>Tuesday</th>\n",
       "      <th>Wednesday</th>\n",
       "    </tr>\n",
       "    <tr>\n",
       "      <th>raw_query</th>\n",
       "      <th></th>\n",
       "      <th></th>\n",
       "      <th></th>\n",
       "      <th></th>\n",
       "      <th></th>\n",
       "      <th></th>\n",
       "      <th></th>\n",
       "    </tr>\n",
       "  </thead>\n",
       "  <tbody>\n",
       "    <tr>\n",
       "      <th>\\tASUS PRIME B360M-K</th>\n",
       "      <td>NaN</td>\n",
       "      <td>NaN</td>\n",
       "      <td>NaN</td>\n",
       "      <td>NaN</td>\n",
       "      <td>NaN</td>\n",
       "      <td>1.0</td>\n",
       "      <td>NaN</td>\n",
       "    </tr>\n",
       "    <tr>\n",
       "      <th>\\tCanon EOS R3</th>\n",
       "      <td>NaN</td>\n",
       "      <td>NaN</td>\n",
       "      <td>NaN</td>\n",
       "      <td>NaN</td>\n",
       "      <td>NaN</td>\n",
       "      <td>1.0</td>\n",
       "      <td>NaN</td>\n",
       "    </tr>\n",
       "    <tr>\n",
       "      <th>\\tNokia C1</th>\n",
       "      <td>NaN</td>\n",
       "      <td>NaN</td>\n",
       "      <td>NaN</td>\n",
       "      <td>NaN</td>\n",
       "      <td>1.0</td>\n",
       "      <td>NaN</td>\n",
       "      <td>NaN</td>\n",
       "    </tr>\n",
       "    <tr>\n",
       "      <th>\\tbe quiet!</th>\n",
       "      <td>NaN</td>\n",
       "      <td>NaN</td>\n",
       "      <td>1.0</td>\n",
       "      <td>NaN</td>\n",
       "      <td>NaN</td>\n",
       "      <td>NaN</td>\n",
       "      <td>NaN</td>\n",
       "    </tr>\n",
       "    <tr>\n",
       "      <th>\\tاسلایم</th>\n",
       "      <td>NaN</td>\n",
       "      <td>NaN</td>\n",
       "      <td>1.0</td>\n",
       "      <td>NaN</td>\n",
       "      <td>NaN</td>\n",
       "      <td>NaN</td>\n",
       "      <td>NaN</td>\n",
       "    </tr>\n",
       "    <tr>\n",
       "      <th>...</th>\n",
       "      <td>...</td>\n",
       "      <td>...</td>\n",
       "      <td>...</td>\n",
       "      <td>...</td>\n",
       "      <td>...</td>\n",
       "      <td>...</td>\n",
       "      <td>...</td>\n",
       "    </tr>\n",
       "    <tr>\n",
       "      <th>⁹ عدااههعشآهّ۸۰bô</th>\n",
       "      <td>NaN</td>\n",
       "      <td>NaN</td>\n",
       "      <td>NaN</td>\n",
       "      <td>NaN</td>\n",
       "      <td>1.0</td>\n",
       "      <td>NaN</td>\n",
       "      <td>NaN</td>\n",
       "    </tr>\n",
       "    <tr>\n",
       "      <th>【無】ファンと乱交撮影会 パート2</th>\n",
       "      <td>NaN</td>\n",
       "      <td>NaN</td>\n",
       "      <td>NaN</td>\n",
       "      <td>NaN</td>\n",
       "      <td>NaN</td>\n",
       "      <td>NaN</td>\n",
       "      <td>1.0</td>\n",
       "    </tr>\n",
       "    <tr>\n",
       "      <th>ﭘي اس ف</th>\n",
       "      <td>NaN</td>\n",
       "      <td>1.0</td>\n",
       "      <td>NaN</td>\n",
       "      <td>NaN</td>\n",
       "      <td>NaN</td>\n",
       "      <td>NaN</td>\n",
       "      <td>NaN</td>\n",
       "    </tr>\n",
       "    <tr>\n",
       "      <th>ﺑﻠﺒﺮﻳﻨﮓ ﭼﺮﺥ ﭘﺮاﻳﺪ</th>\n",
       "      <td>NaN</td>\n",
       "      <td>NaN</td>\n",
       "      <td>NaN</td>\n",
       "      <td>NaN</td>\n",
       "      <td>1.0</td>\n",
       "      <td>NaN</td>\n",
       "      <td>NaN</td>\n",
       "    </tr>\n",
       "    <tr>\n",
       "      <th>ﻛﻨﺘﺮﻝ ﻛﻮﻟﺮ</th>\n",
       "      <td>1.0</td>\n",
       "      <td>NaN</td>\n",
       "      <td>NaN</td>\n",
       "      <td>NaN</td>\n",
       "      <td>NaN</td>\n",
       "      <td>NaN</td>\n",
       "      <td>NaN</td>\n",
       "    </tr>\n",
       "  </tbody>\n",
       "</table>\n",
       "<p>260193 rows × 7 columns</p>\n",
       "</div>"
      ],
      "text/plain": [
       "weekday               Friday  Monday  Saturday  Sunday  Thursday  Tuesday  \\\n",
       "raw_query                                                                   \n",
       "\\tASUS PRIME B360M-K     NaN     NaN       NaN     NaN       NaN      1.0   \n",
       "\\tCanon EOS R3           NaN     NaN       NaN     NaN       NaN      1.0   \n",
       "\\tNokia C1               NaN     NaN       NaN     NaN       1.0      NaN   \n",
       "\\tbe quiet!              NaN     NaN       1.0     NaN       NaN      NaN   \n",
       "\\tاسلایم                 NaN     NaN       1.0     NaN       NaN      NaN   \n",
       "...                      ...     ...       ...     ...       ...      ...   \n",
       "⁹ عدااههعشآهّ۸۰bô        NaN     NaN       NaN     NaN       1.0      NaN   \n",
       "【無】ファンと乱交撮影会 パート2        NaN     NaN       NaN     NaN       NaN      NaN   \n",
       "ﭘي اس ف                  NaN     1.0       NaN     NaN       NaN      NaN   \n",
       "ﺑﻠﺒﺮﻳﻨﮓ ﭼﺮﺥ ﭘﺮاﻳﺪ        NaN     NaN       NaN     NaN       1.0      NaN   \n",
       "ﻛﻨﺘﺮﻝ ﻛﻮﻟﺮ               1.0     NaN       NaN     NaN       NaN      NaN   \n",
       "\n",
       "weekday               Wednesday  \n",
       "raw_query                        \n",
       "\\tASUS PRIME B360M-K        NaN  \n",
       "\\tCanon EOS R3              NaN  \n",
       "\\tNokia C1                  NaN  \n",
       "\\tbe quiet!                 NaN  \n",
       "\\tاسلایم                    NaN  \n",
       "...                         ...  \n",
       "⁹ عدااههعشآهّ۸۰bô           NaN  \n",
       "【無】ファンと乱交撮影会 パート2           1.0  \n",
       "ﭘي اس ف                     NaN  \n",
       "ﺑﻠﺒﺮﻳﻨﮓ ﭼﺮﺥ ﭘﺮاﻳﺪ           NaN  \n",
       "ﻛﻨﺘﺮﻝ ﻛﻮﻟﺮ                  NaN  \n",
       "\n",
       "[260193 rows x 7 columns]"
      ]
     },
     "execution_count": 236,
     "metadata": {},
     "output_type": "execute_result"
    }
   ],
   "source": [
    "res"
   ]
  },
  {
   "cell_type": "markdown",
   "id": "3a33b8ac-ecf5-4b6d-9987-24f12dfcd38a",
   "metadata": {
    "tags": []
   },
   "source": [
    "### 🚩Number of searches per user\n",
    "\n",
    "Next, we would like to know how many of the searches are done by our regular visitors or loyal users.\n",
    "\n",
    "Calculate the number of searches per user such that we could know the number of users with at most 3 searches, between 4 and 9 searches, and at least 10 searches."
   ]
  },
  {
   "cell_type": "markdown",
   "id": "d20eef5c-667f-4e6e-9373-8270616cab9e",
   "metadata": {},
   "source": [
    "**Write the answer below:**  "
   ]
  },
  {
   "cell_type": "code",
   "execution_count": 219,
   "id": "04e2afd6",
   "metadata": {},
   "outputs": [
    {
     "name": "stdout",
     "output_type": "stream",
     "text": [
      "number of users with at most 3 searches = 286513\n",
      "number of users with search counts between 4 and 9 = 22759\n",
      "number of users with at least 10 searches = 2347\n"
     ]
    }
   ],
   "source": [
    "users_log = search_logs.groupby('user_id')['id'].count()\n",
    "print(\"number of users with at most 3 searches =\",users_log[users_log<=3].count())\n",
    "print(\"number of users with search counts between 4 and 9 =\",users_log[users_log.between(4,10)].count())\n",
    "print(\"number of users with at least 10 searches =\",users_log[users_log>=10].count())"
   ]
  },
  {
   "cell_type": "markdown",
   "id": "44c7bc72-c66a-4db4-b7a4-2a7a9ee0bc29",
   "metadata": {
    "tags": []
   },
   "source": [
    "### 🚩Number of searches with or without a category\n",
    "\n",
    "For some of the searches, a product category is also selected by the user which limits the search results to only the products in the selected category. We would like to find the number of these searches and compare it against searches without category.\n",
    "\n",
    "Calculate the number of searches with and without a selected category by users:"
   ]
  },
  {
   "cell_type": "markdown",
   "id": "62c996fd-2b22-41f8-af39-79428d19de2d",
   "metadata": {},
   "source": [
    "**Write the answer below:**  \n",
    "(Hint: if `category_id` is `NaN` for a search record, it means that search was performed without selecting a category; and consider that Pandas is very NA-friendly and also has methods for detecting `NaN` values.)"
   ]
  },
  {
   "cell_type": "code",
   "execution_count": 220,
   "id": "55323439-31fc-494a-b4d7-78d17b220af0",
   "metadata": {},
   "outputs": [
    {
     "name": "stdout",
     "output_type": "stream",
     "text": [
      "With Category = 129240\n",
      "Without Category = 410049\n"
     ]
    }
   ],
   "source": [
    "cat_log = pd.value_counts(search_logs['category_id'].notna()) # False = NaN\n",
    "print('With Category =',cat_log[1])\n",
    "print('Without Category =',cat_log[0])"
   ]
  },
  {
   "cell_type": "markdown",
   "id": "123f587a-31ef-4218-aa44-e060e8b7b84f",
   "metadata": {
    "tags": []
   },
   "source": [
    "### 🚩Most frequent search queries among searches with a category\n",
    "\n",
    "This is the same as the earlier exercise for finding the most frequent search queries, but it only consider searches with a selected category by user.\n",
    "\n",
    "Find the top 10 most frequent search queries among searches with a category, along with their number of searches:"
   ]
  },
  {
   "cell_type": "markdown",
   "id": "7440e672-e96f-4321-b323-b257807e1f7f",
   "metadata": {},
   "source": [
    "**Write the answer below:**  "
   ]
  },
  {
   "cell_type": "code",
   "execution_count": 221,
   "id": "9b9a2167",
   "metadata": {},
   "outputs": [
    {
     "data": {
      "text/plain": [
       "raw_query\n",
       "روغن        1854\n",
       "گوشی         870\n",
       "تلویزیون     520\n",
       "یخچال        465\n",
       "موتور        364\n",
       "دوچرخه       325\n",
       "کولر         317\n",
       "ps5          291\n",
       "شیایومی      280\n",
       "هارد         280\n",
       "Name: id, dtype: int64"
      ]
     },
     "execution_count": 221,
     "metadata": {},
     "output_type": "execute_result"
    }
   ],
   "source": [
    "cat_search = search_logs[search_logs['category_id'].notna()]\n",
    "cat_search.groupby('raw_query').count().sort_values(by='id',ascending=False)['id'].head(10)"
   ]
  },
  {
   "cell_type": "markdown",
   "id": "43c7a24a-84d9-4aa4-9fa5-01e027261f68",
   "metadata": {
    "tags": []
   },
   "source": [
    "### 🚩Distribution of search clicks over different ranks\n",
    "\n",
    "Is it more likely that the users click on the top search results instead of the lower ranked results? To find out, we need to compute the distribution of search-clicks over different ranks (i.e. number of search-clicks per rank of the clicked product in the search result).\n",
    "\n",
    "Plot the distribution of number of search-clicks over different ranks using a bar plot:"
   ]
  },
  {
   "cell_type": "markdown",
   "id": "915c9895-cd19-4caf-9c16-9d167056e5ec",
   "metadata": {},
   "source": [
    "**Write the answer below:**  "
   ]
  },
  {
   "cell_type": "code",
   "execution_count": 222,
   "id": "54e876bc-82a2-4533-a95e-c17ceabb1529",
   "metadata": {},
   "outputs": [
    {
     "data": {
      "image/png": "[encoded data removed]",
      "text/plain": [
       "<Figure size 576x288 with 1 Axes>"
      ]
     },
     "metadata": {
      "needs_background": "light"
     },
     "output_type": "display_data"
    }
   ],
   "source": [
    "search_click_logs.groupby('rank').id.count().plot(kind='bar', color='gold', figsize=(8,4), xlabel='rank', ylabel='frequency').grid()"
   ]
  },
  {
   "cell_type": "markdown",
   "id": "003e752f-9213-4c8c-8d91-726d24ce7c3b",
   "metadata": {
    "tags": []
   },
   "source": [
    "### 🚩Number of searches per number of search results\n",
    "\n",
    "How many of the searches have zero search result? How many of them have only 1 or 2 results? To find out, we can compute the distribution of number of searches per number of search-results.\n",
    "\n",
    "Calculate the full distribution of number of searches per number of search results:"
   ]
  },
  {
   "cell_type": "markdown",
   "id": "5f7c38cc-3f04-4465-ab0c-348edce777c8",
   "metadata": {},
   "source": [
    "**Write the answer below:**  "
   ]
  },
  {
   "cell_type": "code",
   "execution_count": 223,
   "id": "8be7bedf-9dd7-4864-a990-2dd95a2bf8d6",
   "metadata": {},
   "outputs": [
    {
     "data": {
      "text/plain": [
       "len_result\n",
       "9        659\n",
       "7        763\n",
       "8        791\n",
       "5        855\n",
       "6        868\n",
       "4       1025\n",
       "3       1245\n",
       "2       1606\n",
       "1       2142\n",
       "0       7938\n",
       "10    521397\n",
       "Name: id, dtype: int64"
      ]
     },
     "execution_count": 223,
     "metadata": {},
     "output_type": "execute_result"
    }
   ],
   "source": [
    "search_logs['len_result'] = search_logs['result'].str.len()\n",
    "search_logs.groupby('len_result')['id'].count().sort_values()"
   ]
  },
  {
   "cell_type": "markdown",
   "id": "c21cb978-c189-4ba5-95b6-77274f6fefa1",
   "metadata": {
    "tags": []
   },
   "source": [
    "### 🚩Most searched categories\n",
    "\n",
    "Find the categories with the most of number of searches. We would like to know the ID of the categories as well as their **title**."
   ]
  },
  {
   "cell_type": "markdown",
   "id": "19318de6-3a29-4436-9fe9-bb47a9b7683c",
   "metadata": {},
   "source": [
    "**Write the answer below:**  \n",
    "(Hint: we can calculate the ID of most searched categories from \"search logs\" dataframe, but to find their title we should also use the \"categories\" dataframe; hence you probably need to perform a \"join\"/\"merge\" operation to combine the information from two dataframes.)"
   ]
  },
  {
   "cell_type": "code",
   "execution_count": 224,
   "id": "628a7438",
   "metadata": {},
   "outputs": [
    {
     "data": {
      "text/html": [
       "<div>\n",
       "<style scoped>\n",
       "    .dataframe tbody tr th:only-of-type {\n",
       "        vertical-align: middle;\n",
       "    }\n",
       "\n",
       "    .dataframe tbody tr th {\n",
       "        vertical-align: top;\n",
       "    }\n",
       "\n",
       "    .dataframe thead th {\n",
       "        text-align: right;\n",
       "    }\n",
       "</style>\n",
       "<table border=\"1\" class=\"dataframe\">\n",
       "  <thead>\n",
       "    <tr style=\"text-align: right;\">\n",
       "      <th></th>\n",
       "      <th>category_id</th>\n",
       "      <th>count</th>\n",
       "      <th>title</th>\n",
       "    </tr>\n",
       "  </thead>\n",
       "  <tbody>\n",
       "    <tr>\n",
       "      <th>612</th>\n",
       "      <td>2580.0</td>\n",
       "      <td>14960</td>\n",
       "      <td>گوشی موبایل</td>\n",
       "    </tr>\n",
       "    <tr>\n",
       "      <th>717</th>\n",
       "      <td>3110.0</td>\n",
       "      <td>2647</td>\n",
       "      <td>روغن خوراکی</td>\n",
       "    </tr>\n",
       "    <tr>\n",
       "      <th>1975</th>\n",
       "      <td>8564.0</td>\n",
       "      <td>2170</td>\n",
       "      <td>لپ تاپ و نوت بوک</td>\n",
       "    </tr>\n",
       "    <tr>\n",
       "      <th>262</th>\n",
       "      <td>1092.0</td>\n",
       "      <td>2110</td>\n",
       "      <td>هدفون، هدست و هندزفری</td>\n",
       "    </tr>\n",
       "    <tr>\n",
       "      <th>195</th>\n",
       "      <td>820.0</td>\n",
       "      <td>2089</td>\n",
       "      <td>کارت گرافیک</td>\n",
       "    </tr>\n",
       "    <tr>\n",
       "      <th>...</th>\n",
       "      <td>...</td>\n",
       "      <td>...</td>\n",
       "      <td>...</td>\n",
       "    </tr>\n",
       "    <tr>\n",
       "      <th>2161</th>\n",
       "      <td>9328.0</td>\n",
       "      <td>1</td>\n",
       "      <td>شنا</td>\n",
       "    </tr>\n",
       "    <tr>\n",
       "      <th>1941</th>\n",
       "      <td>8411.0</td>\n",
       "      <td>1</td>\n",
       "      <td>ابزار ماکت سازی</td>\n",
       "    </tr>\n",
       "    <tr>\n",
       "      <th>1803</th>\n",
       "      <td>7708.0</td>\n",
       "      <td>1</td>\n",
       "      <td>سایر لوازم الکتریکی همراه</td>\n",
       "    </tr>\n",
       "    <tr>\n",
       "      <th>1493</th>\n",
       "      <td>6432.0</td>\n",
       "      <td>1</td>\n",
       "      <td>شبرنگ خودرو</td>\n",
       "    </tr>\n",
       "    <tr>\n",
       "      <th>281</th>\n",
       "      <td>1154.0</td>\n",
       "      <td>1</td>\n",
       "      <td>رگال سقفی</td>\n",
       "    </tr>\n",
       "  </tbody>\n",
       "</table>\n",
       "<p>2328 rows × 3 columns</p>\n",
       "</div>"
      ],
      "text/plain": [
       "      category_id  count                      title\n",
       "612        2580.0  14960                گوشی موبایل\n",
       "717        3110.0   2647                روغن خوراکی\n",
       "1975       8564.0   2170           لپ تاپ و نوت بوک\n",
       "262        1092.0   2110      هدفون، هدست و هندزفری\n",
       "195         820.0   2089                کارت گرافیک\n",
       "...           ...    ...                        ...\n",
       "2161       9328.0      1                        شنا\n",
       "1941       8411.0      1            ابزار ماکت سازی\n",
       "1803       7708.0      1  سایر لوازم الکتریکی همراه\n",
       "1493       6432.0      1                شبرنگ خودرو\n",
       "281        1154.0      1                  رگال سقفی\n",
       "\n",
       "[2328 rows x 3 columns]"
      ]
     },
     "execution_count": 224,
     "metadata": {},
     "output_type": "execute_result"
    }
   ],
   "source": [
    "merged = pd.merge(search_logs.groupby('category_id').id.count(), categories.rename(columns={'id':'category_id'}), on='category_id')\n",
    "merged.iloc[:,0:3].rename(columns={'id':'count'}).sort_values(by='count', ascending=False) "
   ]
  },
  {
   "cell_type": "markdown",
   "id": "1e2c3d99-6129-442f-83e8-a617573fba0a",
   "metadata": {
    "tags": []
   },
   "source": [
    "### 🚩Number of clicks per searches\n",
    "\n",
    "We would like to know how many of the searches have gotten no clicks, or how many of them have gotten more than one clicks. To find out, we should compute the distribution of number of clicks per searches:"
   ]
  },
  {
   "cell_type": "markdown",
   "id": "24285ec6-acd2-44d0-ac0a-f7d1798f038e",
   "metadata": {},
   "source": [
    "**Write the answer below:**  \n",
    "(Hint: the search data and search-click data are in two different dataframes. So again we may need to perform a join/merge operation)."
   ]
  },
  {
   "cell_type": "code",
   "execution_count": 225,
   "id": "dd7e6f29",
   "metadata": {},
   "outputs": [
    {
     "data": {
      "text/plain": [
       "id_y\n",
       "0     356272\n",
       "1     119648\n",
       "2      38243\n",
       "3      13421\n",
       "4       6286\n",
       "5       2428\n",
       "6       1437\n",
       "7        576\n",
       "8        452\n",
       "9        171\n",
       "10       166\n",
       "11        42\n",
       "12        54\n",
       "13        23\n",
       "14        26\n",
       "15        12\n",
       "16        14\n",
       "17         2\n",
       "18         8\n",
       "19         2\n",
       "21         1\n",
       "22         2\n",
       "24         1\n",
       "27         1\n",
       "33         1\n",
       "Name: id_y, dtype: int64"
      ]
     },
     "execution_count": 225,
     "metadata": {},
     "output_type": "execute_result"
    }
   ],
   "source": [
    "m1 = pd.merge(search_logs, search_click_logs, left_on='id' ,right_on='search_id', how='left') # outer join search and search_click\n",
    "m2 = m1.groupby('id_x').count() # number of clicks per each search id\n",
    "m2.groupby('id_y')['id_y'].count() # number of same number clicks"
   ]
  },
  {
   "cell_type": "markdown",
   "id": "b2bf91c4-e1cb-46dd-9390-0a97bf4aeeaa",
   "metadata": {
    "tags": []
   },
   "source": [
    "### 🚩Most clicked products\n",
    "\n",
    "We are interested to know which product are the most popular. For that, we can count the clicks of each product and consider the most clicked products as the most popular ones. So let's find the top 20 most clicked products (we would like to know the ID, title and number of clicks for those products):"
   ]
  },
  {
   "cell_type": "markdown",
   "id": "12378660-3414-4128-9c65-4f539d0cf6ca",
   "metadata": {},
   "source": [
    "**Write the answer below:**  \n",
    "(Hint: here we also need to combine information from multiple dataframes; to find the ID of clicked products, we need to consider both of \"search logs\" and \"search clicks\" dataframes, and for finding product info we additionally need the \"products\" dataframe.)"
   ]
  },
  {
   "cell_type": "code",
   "execution_count": 226,
   "id": "ebb6ce2c",
   "metadata": {},
   "outputs": [
    {
     "data": {
      "text/html": [
       "<div>\n",
       "<style scoped>\n",
       "    .dataframe tbody tr th:only-of-type {\n",
       "        vertical-align: middle;\n",
       "    }\n",
       "\n",
       "    .dataframe tbody tr th {\n",
       "        vertical-align: top;\n",
       "    }\n",
       "\n",
       "    .dataframe thead th {\n",
       "        text-align: right;\n",
       "    }\n",
       "</style>\n",
       "<table border=\"1\" class=\"dataframe\">\n",
       "  <thead>\n",
       "    <tr style=\"text-align: right;\">\n",
       "      <th></th>\n",
       "      <th>click_id</th>\n",
       "      <th>rank</th>\n",
       "      <th>search_id</th>\n",
       "    </tr>\n",
       "  </thead>\n",
       "  <tbody>\n",
       "    <tr>\n",
       "      <th>0</th>\n",
       "      <td>jstyz</td>\n",
       "      <td>1</td>\n",
       "      <td>iitnm</td>\n",
       "    </tr>\n",
       "    <tr>\n",
       "      <th>1</th>\n",
       "      <td>ewusk</td>\n",
       "      <td>2</td>\n",
       "      <td>scjlb</td>\n",
       "    </tr>\n",
       "    <tr>\n",
       "      <th>2</th>\n",
       "      <td>osnio</td>\n",
       "      <td>6</td>\n",
       "      <td>ohuqq</td>\n",
       "    </tr>\n",
       "    <tr>\n",
       "      <th>3</th>\n",
       "      <td>expgi</td>\n",
       "      <td>3</td>\n",
       "      <td>pzrcn</td>\n",
       "    </tr>\n",
       "    <tr>\n",
       "      <th>4</th>\n",
       "      <td>srgdy</td>\n",
       "      <td>5</td>\n",
       "      <td>mhlmr</td>\n",
       "    </tr>\n",
       "    <tr>\n",
       "      <th>...</th>\n",
       "      <td>...</td>\n",
       "      <td>...</td>\n",
       "      <td>...</td>\n",
       "    </tr>\n",
       "    <tr>\n",
       "      <th>295687</th>\n",
       "      <td>ekdor</td>\n",
       "      <td>4</td>\n",
       "      <td>yacmw</td>\n",
       "    </tr>\n",
       "    <tr>\n",
       "      <th>295688</th>\n",
       "      <td>rxpwg</td>\n",
       "      <td>1</td>\n",
       "      <td>keqas</td>\n",
       "    </tr>\n",
       "    <tr>\n",
       "      <th>295689</th>\n",
       "      <td>newqm</td>\n",
       "      <td>8</td>\n",
       "      <td>vpksd</td>\n",
       "    </tr>\n",
       "    <tr>\n",
       "      <th>295690</th>\n",
       "      <td>ksvlv</td>\n",
       "      <td>2</td>\n",
       "      <td>prptj</td>\n",
       "    </tr>\n",
       "    <tr>\n",
       "      <th>295691</th>\n",
       "      <td>fanez</td>\n",
       "      <td>1</td>\n",
       "      <td>wvsqc</td>\n",
       "    </tr>\n",
       "  </tbody>\n",
       "</table>\n",
       "<p>295692 rows × 3 columns</p>\n",
       "</div>"
      ],
      "text/plain": [
       "       click_id  rank search_id\n",
       "0         jstyz     1     iitnm\n",
       "1         ewusk     2     scjlb\n",
       "2         osnio     6     ohuqq\n",
       "3         expgi     3     pzrcn\n",
       "4         srgdy     5     mhlmr\n",
       "...         ...   ...       ...\n",
       "295687    ekdor     4     yacmw\n",
       "295688    rxpwg     1     keqas\n",
       "295689    newqm     8     vpksd\n",
       "295690    ksvlv     2     prptj\n",
       "295691    fanez     1     wvsqc\n",
       "\n",
       "[295692 rows x 3 columns]"
      ]
     },
     "execution_count": 226,
     "metadata": {},
     "output_type": "execute_result"
    }
   ],
   "source": [
    "clicks = search_click_logs.loc[:,{'id','search_id','rank'}].rename(columns={'id':'click_id'}) #filter search_click_log\n",
    "clicks"
   ]
  },
  {
   "cell_type": "code",
   "execution_count": 227,
   "id": "a70b35dc",
   "metadata": {},
   "outputs": [
    {
     "data": {
      "text/html": [
       "<div>\n",
       "<style scoped>\n",
       "    .dataframe tbody tr th:only-of-type {\n",
       "        vertical-align: middle;\n",
       "    }\n",
       "\n",
       "    .dataframe tbody tr th {\n",
       "        vertical-align: top;\n",
       "    }\n",
       "\n",
       "    .dataframe thead th {\n",
       "        text-align: right;\n",
       "    }\n",
       "</style>\n",
       "<table border=\"1\" class=\"dataframe\">\n",
       "  <thead>\n",
       "    <tr style=\"text-align: right;\">\n",
       "      <th></th>\n",
       "      <th>search_id</th>\n",
       "      <th>result</th>\n",
       "    </tr>\n",
       "  </thead>\n",
       "  <tbody>\n",
       "    <tr>\n",
       "      <th>0</th>\n",
       "      <td>qahft</td>\n",
       "      <td>[7840591, 1784875, 6716428, 6135112, 7103618, ...</td>\n",
       "    </tr>\n",
       "    <tr>\n",
       "      <th>1</th>\n",
       "      <td>rxcka</td>\n",
       "      <td>[451703, 8801989, 8977506, 4665205, 5219768, 5...</td>\n",
       "    </tr>\n",
       "    <tr>\n",
       "      <th>2</th>\n",
       "      <td>fnafq</td>\n",
       "      <td>[1457782, 5150503, 5921870, 909372, 9738201, 1...</td>\n",
       "    </tr>\n",
       "    <tr>\n",
       "      <th>3</th>\n",
       "      <td>ofpva</td>\n",
       "      <td>[404198, 812389, 339213, 929557, 3632184, 7764...</td>\n",
       "    </tr>\n",
       "    <tr>\n",
       "      <th>4</th>\n",
       "      <td>usiey</td>\n",
       "      <td>[8103652, 7283604, 4030781, 4756913, 3259566, ...</td>\n",
       "    </tr>\n",
       "    <tr>\n",
       "      <th>...</th>\n",
       "      <td>...</td>\n",
       "      <td>...</td>\n",
       "    </tr>\n",
       "    <tr>\n",
       "      <th>539284</th>\n",
       "      <td>komsy</td>\n",
       "      <td>[5453845, 8144670, 929409, 2560009, 2945123, 1...</td>\n",
       "    </tr>\n",
       "    <tr>\n",
       "      <th>539285</th>\n",
       "      <td>rgtin</td>\n",
       "      <td>[4651071, 7207811, 3198227, 5668360, 3934514, ...</td>\n",
       "    </tr>\n",
       "    <tr>\n",
       "      <th>539286</th>\n",
       "      <td>ouixi</td>\n",
       "      <td>[3627110, 6731253, 3386983, 678951, 5285940, 3...</td>\n",
       "    </tr>\n",
       "    <tr>\n",
       "      <th>539287</th>\n",
       "      <td>cnemi</td>\n",
       "      <td>[3789177, 1968708, 459464, 5077881, 6612780, 1...</td>\n",
       "    </tr>\n",
       "    <tr>\n",
       "      <th>539288</th>\n",
       "      <td>afnwn</td>\n",
       "      <td>[7674912, 3037094, 3876156, 8439562, 746455, 4...</td>\n",
       "    </tr>\n",
       "  </tbody>\n",
       "</table>\n",
       "<p>539289 rows × 2 columns</p>\n",
       "</div>"
      ],
      "text/plain": [
       "       search_id                                             result\n",
       "0          qahft  [7840591, 1784875, 6716428, 6135112, 7103618, ...\n",
       "1          rxcka  [451703, 8801989, 8977506, 4665205, 5219768, 5...\n",
       "2          fnafq  [1457782, 5150503, 5921870, 909372, 9738201, 1...\n",
       "3          ofpva  [404198, 812389, 339213, 929557, 3632184, 7764...\n",
       "4          usiey  [8103652, 7283604, 4030781, 4756913, 3259566, ...\n",
       "...          ...                                                ...\n",
       "539284     komsy  [5453845, 8144670, 929409, 2560009, 2945123, 1...\n",
       "539285     rgtin  [4651071, 7207811, 3198227, 5668360, 3934514, ...\n",
       "539286     ouixi  [3627110, 6731253, 3386983, 678951, 5285940, 3...\n",
       "539287     cnemi  [3789177, 1968708, 459464, 5077881, 6612780, 1...\n",
       "539288     afnwn  [7674912, 3037094, 3876156, 8439562, 746455, 4...\n",
       "\n",
       "[539289 rows x 2 columns]"
      ]
     },
     "execution_count": 227,
     "metadata": {},
     "output_type": "execute_result"
    }
   ],
   "source": [
    "searchs = search_logs.loc[:,{'id','result'}].rename(columns={'id':'search_id'}) #filter search_log\n",
    "searchs"
   ]
  },
  {
   "cell_type": "code",
   "execution_count": 228,
   "id": "f0347523",
   "metadata": {},
   "outputs": [
    {
     "data": {
      "text/html": [
       "<div>\n",
       "<style scoped>\n",
       "    .dataframe tbody tr th:only-of-type {\n",
       "        vertical-align: middle;\n",
       "    }\n",
       "\n",
       "    .dataframe tbody tr th {\n",
       "        vertical-align: top;\n",
       "    }\n",
       "\n",
       "    .dataframe thead th {\n",
       "        text-align: right;\n",
       "    }\n",
       "</style>\n",
       "<table border=\"1\" class=\"dataframe\">\n",
       "  <thead>\n",
       "    <tr style=\"text-align: right;\">\n",
       "      <th></th>\n",
       "      <th>search_id</th>\n",
       "      <th>result</th>\n",
       "      <th>click_id</th>\n",
       "      <th>rank</th>\n",
       "    </tr>\n",
       "  </thead>\n",
       "  <tbody>\n",
       "    <tr>\n",
       "      <th>0</th>\n",
       "      <td>iitnm</td>\n",
       "      <td>[8363804, 4965044, 8352519, 4171803, 2797132, ...</td>\n",
       "      <td>jstyz</td>\n",
       "      <td>1</td>\n",
       "    </tr>\n",
       "    <tr>\n",
       "      <th>1</th>\n",
       "      <td>scjlb</td>\n",
       "      <td>[3977234, 7631437, 5595460, 636414, 1196615, 9...</td>\n",
       "      <td>ewusk</td>\n",
       "      <td>2</td>\n",
       "    </tr>\n",
       "    <tr>\n",
       "      <th>2</th>\n",
       "      <td>ohuqq</td>\n",
       "      <td>[7856943, 3204265, 3175195, 4292810, 4341195, ...</td>\n",
       "      <td>osnio</td>\n",
       "      <td>6</td>\n",
       "    </tr>\n",
       "    <tr>\n",
       "      <th>3</th>\n",
       "      <td>pzrcn</td>\n",
       "      <td>[4723903, 1308269, 9212873, 2552325, 2438519, ...</td>\n",
       "      <td>expgi</td>\n",
       "      <td>3</td>\n",
       "    </tr>\n",
       "    <tr>\n",
       "      <th>4</th>\n",
       "      <td>mhlmr</td>\n",
       "      <td>[1420113, 9627228, 8607057, 6284811, 8436972, ...</td>\n",
       "      <td>srgdy</td>\n",
       "      <td>5</td>\n",
       "    </tr>\n",
       "    <tr>\n",
       "      <th>...</th>\n",
       "      <td>...</td>\n",
       "      <td>...</td>\n",
       "      <td>...</td>\n",
       "      <td>...</td>\n",
       "    </tr>\n",
       "    <tr>\n",
       "      <th>295687</th>\n",
       "      <td>yacmw</td>\n",
       "      <td>[6754504, 2091261, 8140896, 8234088, 9727396, ...</td>\n",
       "      <td>ekdor</td>\n",
       "      <td>4</td>\n",
       "    </tr>\n",
       "    <tr>\n",
       "      <th>295688</th>\n",
       "      <td>keqas</td>\n",
       "      <td>[7169056, 4898618, 1517942, 8420944, 3635761, ...</td>\n",
       "      <td>rxpwg</td>\n",
       "      <td>1</td>\n",
       "    </tr>\n",
       "    <tr>\n",
       "      <th>295689</th>\n",
       "      <td>vpksd</td>\n",
       "      <td>[3163184, 7399634, 3766506, 2341761, 4685645, ...</td>\n",
       "      <td>newqm</td>\n",
       "      <td>8</td>\n",
       "    </tr>\n",
       "    <tr>\n",
       "      <th>295690</th>\n",
       "      <td>prptj</td>\n",
       "      <td>[6601726, 4292725, 7711983, 6828387, 8328958, ...</td>\n",
       "      <td>ksvlv</td>\n",
       "      <td>2</td>\n",
       "    </tr>\n",
       "    <tr>\n",
       "      <th>295691</th>\n",
       "      <td>wvsqc</td>\n",
       "      <td>[669210, 5960810, 9585665, 8009046, 8989155, 2...</td>\n",
       "      <td>fanez</td>\n",
       "      <td>1</td>\n",
       "    </tr>\n",
       "  </tbody>\n",
       "</table>\n",
       "<p>295692 rows × 4 columns</p>\n",
       "</div>"
      ],
      "text/plain": [
       "       search_id                                             result click_id  \\\n",
       "0          iitnm  [8363804, 4965044, 8352519, 4171803, 2797132, ...    jstyz   \n",
       "1          scjlb  [3977234, 7631437, 5595460, 636414, 1196615, 9...    ewusk   \n",
       "2          ohuqq  [7856943, 3204265, 3175195, 4292810, 4341195, ...    osnio   \n",
       "3          pzrcn  [4723903, 1308269, 9212873, 2552325, 2438519, ...    expgi   \n",
       "4          mhlmr  [1420113, 9627228, 8607057, 6284811, 8436972, ...    srgdy   \n",
       "...          ...                                                ...      ...   \n",
       "295687     yacmw  [6754504, 2091261, 8140896, 8234088, 9727396, ...    ekdor   \n",
       "295688     keqas  [7169056, 4898618, 1517942, 8420944, 3635761, ...    rxpwg   \n",
       "295689     vpksd  [3163184, 7399634, 3766506, 2341761, 4685645, ...    newqm   \n",
       "295690     prptj  [6601726, 4292725, 7711983, 6828387, 8328958, ...    ksvlv   \n",
       "295691     wvsqc  [669210, 5960810, 9585665, 8009046, 8989155, 2...    fanez   \n",
       "\n",
       "        rank  \n",
       "0          1  \n",
       "1          2  \n",
       "2          6  \n",
       "3          3  \n",
       "4          5  \n",
       "...      ...  \n",
       "295687     4  \n",
       "295688     1  \n",
       "295689     8  \n",
       "295690     2  \n",
       "295691     1  \n",
       "\n",
       "[295692 rows x 4 columns]"
      ]
     },
     "execution_count": 228,
     "metadata": {},
     "output_type": "execute_result"
    }
   ],
   "source": [
    "logs = pd.merge(searchs, clicks, on='search_id', how='right') # right join between search and click\n",
    "logs"
   ]
  },
  {
   "cell_type": "code",
   "execution_count": 229,
   "id": "fc4c6a41",
   "metadata": {},
   "outputs": [
    {
     "data": {
      "text/html": [
       "<div>\n",
       "<style scoped>\n",
       "    .dataframe tbody tr th:only-of-type {\n",
       "        vertical-align: middle;\n",
       "    }\n",
       "\n",
       "    .dataframe tbody tr th {\n",
       "        vertical-align: top;\n",
       "    }\n",
       "\n",
       "    .dataframe thead th {\n",
       "        text-align: right;\n",
       "    }\n",
       "</style>\n",
       "<table border=\"1\" class=\"dataframe\">\n",
       "  <thead>\n",
       "    <tr style=\"text-align: right;\">\n",
       "      <th></th>\n",
       "      <th>search_id</th>\n",
       "      <th>result</th>\n",
       "      <th>click_id</th>\n",
       "      <th>rank</th>\n",
       "      <th>product_id</th>\n",
       "    </tr>\n",
       "  </thead>\n",
       "  <tbody>\n",
       "    <tr>\n",
       "      <th>0</th>\n",
       "      <td>iitnm</td>\n",
       "      <td>[8363804, 4965044, 8352519, 4171803, 2797132, ...</td>\n",
       "      <td>jstyz</td>\n",
       "      <td>1</td>\n",
       "      <td>4965044</td>\n",
       "    </tr>\n",
       "    <tr>\n",
       "      <th>1</th>\n",
       "      <td>scjlb</td>\n",
       "      <td>[3977234, 7631437, 5595460, 636414, 1196615, 9...</td>\n",
       "      <td>ewusk</td>\n",
       "      <td>2</td>\n",
       "      <td>5595460</td>\n",
       "    </tr>\n",
       "    <tr>\n",
       "      <th>2</th>\n",
       "      <td>ohuqq</td>\n",
       "      <td>[7856943, 3204265, 3175195, 4292810, 4341195, ...</td>\n",
       "      <td>osnio</td>\n",
       "      <td>6</td>\n",
       "      <td>3770193</td>\n",
       "    </tr>\n",
       "    <tr>\n",
       "      <th>3</th>\n",
       "      <td>pzrcn</td>\n",
       "      <td>[4723903, 1308269, 9212873, 2552325, 2438519, ...</td>\n",
       "      <td>expgi</td>\n",
       "      <td>3</td>\n",
       "      <td>2552325</td>\n",
       "    </tr>\n",
       "    <tr>\n",
       "      <th>4</th>\n",
       "      <td>mhlmr</td>\n",
       "      <td>[1420113, 9627228, 8607057, 6284811, 8436972, ...</td>\n",
       "      <td>srgdy</td>\n",
       "      <td>5</td>\n",
       "      <td>7325944</td>\n",
       "    </tr>\n",
       "    <tr>\n",
       "      <th>...</th>\n",
       "      <td>...</td>\n",
       "      <td>...</td>\n",
       "      <td>...</td>\n",
       "      <td>...</td>\n",
       "      <td>...</td>\n",
       "    </tr>\n",
       "    <tr>\n",
       "      <th>295687</th>\n",
       "      <td>yacmw</td>\n",
       "      <td>[6754504, 2091261, 8140896, 8234088, 9727396, ...</td>\n",
       "      <td>ekdor</td>\n",
       "      <td>4</td>\n",
       "      <td>9727396</td>\n",
       "    </tr>\n",
       "    <tr>\n",
       "      <th>295688</th>\n",
       "      <td>keqas</td>\n",
       "      <td>[7169056, 4898618, 1517942, 8420944, 3635761, ...</td>\n",
       "      <td>rxpwg</td>\n",
       "      <td>1</td>\n",
       "      <td>4898618</td>\n",
       "    </tr>\n",
       "    <tr>\n",
       "      <th>295689</th>\n",
       "      <td>vpksd</td>\n",
       "      <td>[3163184, 7399634, 3766506, 2341761, 4685645, ...</td>\n",
       "      <td>newqm</td>\n",
       "      <td>8</td>\n",
       "      <td>3184119</td>\n",
       "    </tr>\n",
       "    <tr>\n",
       "      <th>295690</th>\n",
       "      <td>prptj</td>\n",
       "      <td>[6601726, 4292725, 7711983, 6828387, 8328958, ...</td>\n",
       "      <td>ksvlv</td>\n",
       "      <td>2</td>\n",
       "      <td>7711983</td>\n",
       "    </tr>\n",
       "    <tr>\n",
       "      <th>295691</th>\n",
       "      <td>wvsqc</td>\n",
       "      <td>[669210, 5960810, 9585665, 8009046, 8989155, 2...</td>\n",
       "      <td>fanez</td>\n",
       "      <td>1</td>\n",
       "      <td>5960810</td>\n",
       "    </tr>\n",
       "  </tbody>\n",
       "</table>\n",
       "<p>295692 rows × 5 columns</p>\n",
       "</div>"
      ],
      "text/plain": [
       "       search_id                                             result click_id  \\\n",
       "0          iitnm  [8363804, 4965044, 8352519, 4171803, 2797132, ...    jstyz   \n",
       "1          scjlb  [3977234, 7631437, 5595460, 636414, 1196615, 9...    ewusk   \n",
       "2          ohuqq  [7856943, 3204265, 3175195, 4292810, 4341195, ...    osnio   \n",
       "3          pzrcn  [4723903, 1308269, 9212873, 2552325, 2438519, ...    expgi   \n",
       "4          mhlmr  [1420113, 9627228, 8607057, 6284811, 8436972, ...    srgdy   \n",
       "...          ...                                                ...      ...   \n",
       "295687     yacmw  [6754504, 2091261, 8140896, 8234088, 9727396, ...    ekdor   \n",
       "295688     keqas  [7169056, 4898618, 1517942, 8420944, 3635761, ...    rxpwg   \n",
       "295689     vpksd  [3163184, 7399634, 3766506, 2341761, 4685645, ...    newqm   \n",
       "295690     prptj  [6601726, 4292725, 7711983, 6828387, 8328958, ...    ksvlv   \n",
       "295691     wvsqc  [669210, 5960810, 9585665, 8009046, 8989155, 2...    fanez   \n",
       "\n",
       "        rank  product_id  \n",
       "0          1     4965044  \n",
       "1          2     5595460  \n",
       "2          6     3770193  \n",
       "3          3     2552325  \n",
       "4          5     7325944  \n",
       "...      ...         ...  \n",
       "295687     4     9727396  \n",
       "295688     1     4898618  \n",
       "295689     8     3184119  \n",
       "295690     2     7711983  \n",
       "295691     1     5960810  \n",
       "\n",
       "[295692 rows x 5 columns]"
      ]
     },
     "execution_count": 229,
     "metadata": {},
     "output_type": "execute_result"
    }
   ],
   "source": [
    "product_id = pd.Series([logs.loc[i,'result'][logs.loc[i,'rank']] for i in range(len(logs))]) # calculate result[rank] to find product_id\n",
    "logs = pd.concat([logs,product_id], axis=1).rename(columns={0:'product_id'}) # concat product_id to logs \n",
    "logs\n"
   ]
  },
  {
   "cell_type": "code",
   "execution_count": 230,
   "id": "8fcdda4f",
   "metadata": {},
   "outputs": [
    {
     "data": {
      "text/plain": [
       "product_id\n",
       "133        1\n",
       "277        1\n",
       "334        5\n",
       "374        1\n",
       "548        2\n",
       "          ..\n",
       "9999419    2\n",
       "9999596    2\n",
       "9999798    1\n",
       "9999909    1\n",
       "9999925    1\n",
       "Name: counts, Length: 108054, dtype: int64"
      ]
     },
     "execution_count": 230,
     "metadata": {},
     "output_type": "execute_result"
    }
   ],
   "source": [
    "pr_grouped = logs.groupby('product_id').count().rename(columns={'click_id':'counts'})['counts'] # calculate click_count for products\n",
    "pr_grouped"
   ]
  },
  {
   "cell_type": "code",
   "execution_count": 231,
   "id": "7feec3ee",
   "metadata": {},
   "outputs": [
    {
     "data": {
      "text/html": [
       "<div>\n",
       "<style scoped>\n",
       "    .dataframe tbody tr th:only-of-type {\n",
       "        vertical-align: middle;\n",
       "    }\n",
       "\n",
       "    .dataframe tbody tr th {\n",
       "        vertical-align: top;\n",
       "    }\n",
       "\n",
       "    .dataframe thead th {\n",
       "        text-align: right;\n",
       "    }\n",
       "</style>\n",
       "<table border=\"1\" class=\"dataframe\">\n",
       "  <thead>\n",
       "    <tr style=\"text-align: right;\">\n",
       "      <th></th>\n",
       "      <th>product_id</th>\n",
       "      <th>pr_title</th>\n",
       "      <th>pr_category_id</th>\n",
       "    </tr>\n",
       "  </thead>\n",
       "  <tbody>\n",
       "    <tr>\n",
       "      <th>0</th>\n",
       "      <td>758287</td>\n",
       "      <td>میکروسکوپ سلسترون مدل 44121</td>\n",
       "      <td>262</td>\n",
       "    </tr>\n",
       "    <tr>\n",
       "      <th>1</th>\n",
       "      <td>7164195</td>\n",
       "      <td>دوربین عکاسی نیکون مدل Nikon D5600 body</td>\n",
       "      <td>1273</td>\n",
       "    </tr>\n",
       "    <tr>\n",
       "      <th>2</th>\n",
       "      <td>3242621</td>\n",
       "      <td>دوچرخه شهری قناری مدل Space Shuttle سایز 16</td>\n",
       "      <td>3882</td>\n",
       "    </tr>\n",
       "    <tr>\n",
       "      <th>3</th>\n",
       "      <td>4277974</td>\n",
       "      <td>دوچرخه سایز 16 مدل  2020 Flying Bear قناری</td>\n",
       "      <td>3882</td>\n",
       "    </tr>\n",
       "    <tr>\n",
       "      <th>4</th>\n",
       "      <td>8671305</td>\n",
       "      <td>دوچرخه 12 قناری مدل JENNY</td>\n",
       "      <td>4320</td>\n",
       "    </tr>\n",
       "    <tr>\n",
       "      <th>...</th>\n",
       "      <td>...</td>\n",
       "      <td>...</td>\n",
       "      <td>...</td>\n",
       "    </tr>\n",
       "    <tr>\n",
       "      <th>108041</th>\n",
       "      <td>1985506</td>\n",
       "      <td>اسلایم سارا در انواع طرح و نوع متنوع با کیفیت ...</td>\n",
       "      <td>4062</td>\n",
       "    </tr>\n",
       "    <tr>\n",
       "      <th>108042</th>\n",
       "      <td>5278787</td>\n",
       "      <td>پک تخصصی کُرگیری(2دستگاه،5مته و 48سگمنت)</td>\n",
       "      <td>3830</td>\n",
       "    </tr>\n",
       "    <tr>\n",
       "      <th>108043</th>\n",
       "      <td>8977011</td>\n",
       "      <td>پیراهن مردانه Dior مدل 28793</td>\n",
       "      <td>4107</td>\n",
       "    </tr>\n",
       "    <tr>\n",
       "      <th>108044</th>\n",
       "      <td>2157337</td>\n",
       "      <td>پیراهن مردانه Dior مدل 28794</td>\n",
       "      <td>4107</td>\n",
       "    </tr>\n",
       "    <tr>\n",
       "      <th>108045</th>\n",
       "      <td>8432560</td>\n",
       "      <td>کیف دخترانه مدل جدید شیک کد 7929</td>\n",
       "      <td>4810</td>\n",
       "    </tr>\n",
       "  </tbody>\n",
       "</table>\n",
       "<p>108046 rows × 3 columns</p>\n",
       "</div>"
      ],
      "text/plain": [
       "        product_id                                           pr_title  \\\n",
       "0           758287                        میکروسکوپ سلسترون مدل 44121   \n",
       "1          7164195            دوربین عکاسی نیکون مدل Nikon D5600 body   \n",
       "2          3242621        دوچرخه شهری قناری مدل Space Shuttle سایز 16   \n",
       "3          4277974         دوچرخه سایز 16 مدل  2020 Flying Bear قناری   \n",
       "4          8671305                          دوچرخه 12 قناری مدل JENNY   \n",
       "...            ...                                                ...   \n",
       "108041     1985506  اسلایم سارا در انواع طرح و نوع متنوع با کیفیت ...   \n",
       "108042     5278787           پک تخصصی کُرگیری(2دستگاه،5مته و 48سگمنت)   \n",
       "108043     8977011                       پیراهن مردانه Dior مدل 28793   \n",
       "108044     2157337                       پیراهن مردانه Dior مدل 28794   \n",
       "108045     8432560                   کیف دخترانه مدل جدید شیک کد 7929   \n",
       "\n",
       "        pr_category_id  \n",
       "0                  262  \n",
       "1                 1273  \n",
       "2                 3882  \n",
       "3                 3882  \n",
       "4                 4320  \n",
       "...                ...  \n",
       "108041            4062  \n",
       "108042            3830  \n",
       "108043            4107  \n",
       "108044            4107  \n",
       "108045            4810  \n",
       "\n",
       "[108046 rows x 3 columns]"
      ]
     },
     "execution_count": 231,
     "metadata": {},
     "output_type": "execute_result"
    }
   ],
   "source": [
    "product_renamed = products.rename(columns={'id':'product_id','title':'pr_title','category_id':'pr_category_id'}) # rename product columns\n",
    "product_renamed"
   ]
  },
  {
   "cell_type": "code",
   "execution_count": 232,
   "id": "b579ff2d",
   "metadata": {},
   "outputs": [
    {
     "data": {
      "text/html": [
       "<div>\n",
       "<style scoped>\n",
       "    .dataframe tbody tr th:only-of-type {\n",
       "        vertical-align: middle;\n",
       "    }\n",
       "\n",
       "    .dataframe tbody tr th {\n",
       "        vertical-align: top;\n",
       "    }\n",
       "\n",
       "    .dataframe thead th {\n",
       "        text-align: right;\n",
       "    }\n",
       "</style>\n",
       "<table border=\"1\" class=\"dataframe\">\n",
       "  <thead>\n",
       "    <tr style=\"text-align: right;\">\n",
       "      <th></th>\n",
       "      <th>product_id</th>\n",
       "      <th>pr_title</th>\n",
       "      <th>pr_category_id</th>\n",
       "      <th>counts</th>\n",
       "    </tr>\n",
       "  </thead>\n",
       "  <tbody>\n",
       "    <tr>\n",
       "      <th>73584</th>\n",
       "      <td>6754504</td>\n",
       "      <td>گوشی اپل iPhone 13 Pro max (Not Active) | حافظ...</td>\n",
       "      <td>2580</td>\n",
       "      <td>932</td>\n",
       "    </tr>\n",
       "    <tr>\n",
       "      <th>83004</th>\n",
       "      <td>9619627</td>\n",
       "      <td>گوشی شیائومی Redmi Note 11 | حافظه 128 رم 6 گی...</td>\n",
       "      <td>2580</td>\n",
       "      <td>910</td>\n",
       "    </tr>\n",
       "    <tr>\n",
       "      <th>45444</th>\n",
       "      <td>8783002</td>\n",
       "      <td>روغن نیمه جامد غنجه 4کیلویی</td>\n",
       "      <td>3110</td>\n",
       "      <td>866</td>\n",
       "    </tr>\n",
       "    <tr>\n",
       "      <th>36970</th>\n",
       "      <td>3233307</td>\n",
       "      <td>گوشی سامسونگ A32  | حافظه 128 رم 6 گیگابایت</td>\n",
       "      <td>2580</td>\n",
       "      <td>705</td>\n",
       "    </tr>\n",
       "    <tr>\n",
       "      <th>98939</th>\n",
       "      <td>6018703</td>\n",
       "      <td>روغن آفتابگردان غنی شده با ویتامین دی810 گرم ا...</td>\n",
       "      <td>3110</td>\n",
       "      <td>665</td>\n",
       "    </tr>\n",
       "    <tr>\n",
       "      <th>2886</th>\n",
       "      <td>541613</td>\n",
       "      <td>روغن نیمه جامد حاوی امگا3 مناسب پخت و پز لادن ...</td>\n",
       "      <td>3110</td>\n",
       "      <td>654</td>\n",
       "    </tr>\n",
       "    <tr>\n",
       "      <th>74443</th>\n",
       "      <td>5373323</td>\n",
       "      <td>گوشی سامسونگ S21 FE 5G | حافظه 256 رم 8 گیگاب...</td>\n",
       "      <td>2580</td>\n",
       "      <td>601</td>\n",
       "    </tr>\n",
       "    <tr>\n",
       "      <th>59841</th>\n",
       "      <td>3712777</td>\n",
       "      <td>گوشی شیائومی 11T Pro 5G | حافظه 256 رم 12 گیگا...</td>\n",
       "      <td>2580</td>\n",
       "      <td>576</td>\n",
       "    </tr>\n",
       "    <tr>\n",
       "      <th>36775</th>\n",
       "      <td>5187589</td>\n",
       "      <td>گوشی شیائومی Poco F3 5G | حافظه 256 رم 8 گیگابایت</td>\n",
       "      <td>2580</td>\n",
       "      <td>574</td>\n",
       "    </tr>\n",
       "    <tr>\n",
       "      <th>94666</th>\n",
       "      <td>9634256</td>\n",
       "      <td>گوشی سامسونگ A13 | حافظه 64 رم 4 گیگابایت</td>\n",
       "      <td>2580</td>\n",
       "      <td>556</td>\n",
       "    </tr>\n",
       "    <tr>\n",
       "      <th>10194</th>\n",
       "      <td>9385946</td>\n",
       "      <td>گوشی اپل (استوک) iPhone 11 Pro | حافظه 256 گیگ...</td>\n",
       "      <td>2580</td>\n",
       "      <td>553</td>\n",
       "    </tr>\n",
       "    <tr>\n",
       "      <th>58148</th>\n",
       "      <td>6018876</td>\n",
       "      <td>گوشی سامسونگ S22 Ultra 5G | حافظه 256 رم 12 گی...</td>\n",
       "      <td>2580</td>\n",
       "      <td>540</td>\n",
       "    </tr>\n",
       "    <tr>\n",
       "      <th>60745</th>\n",
       "      <td>9193664</td>\n",
       "      <td>گوشی سامسونگ A12 Nacho | حافظه 64 رم 4 گیگابایت</td>\n",
       "      <td>2580</td>\n",
       "      <td>516</td>\n",
       "    </tr>\n",
       "    <tr>\n",
       "      <th>91456</th>\n",
       "      <td>5683508</td>\n",
       "      <td>گوشی شیائومی Redmi Note 11 Pro | حافظه 128 رم ...</td>\n",
       "      <td>2580</td>\n",
       "      <td>513</td>\n",
       "    </tr>\n",
       "    <tr>\n",
       "      <th>97667</th>\n",
       "      <td>2783029</td>\n",
       "      <td>گوشی سامسونگ A52 | حافظه 128 رم 8 گیگابایت</td>\n",
       "      <td>2580</td>\n",
       "      <td>494</td>\n",
       "    </tr>\n",
       "    <tr>\n",
       "      <th>21493</th>\n",
       "      <td>7315523</td>\n",
       "      <td>کنسول بازی مایکروسافت Xbox Series S | حافظه 51...</td>\n",
       "      <td>8816</td>\n",
       "      <td>484</td>\n",
       "    </tr>\n",
       "    <tr>\n",
       "      <th>10454</th>\n",
       "      <td>2566030</td>\n",
       "      <td>گوشی اپل (استوک) iPhone 11 | حافظه 128 گیگابایت</td>\n",
       "      <td>2580</td>\n",
       "      <td>481</td>\n",
       "    </tr>\n",
       "    <tr>\n",
       "      <th>36808</th>\n",
       "      <td>253379</td>\n",
       "      <td>گوشی شیائومی POCO X3 Pro | حافظه 256 رم 8 گیگا...</td>\n",
       "      <td>2580</td>\n",
       "      <td>476</td>\n",
       "    </tr>\n",
       "    <tr>\n",
       "      <th>57056</th>\n",
       "      <td>1078897</td>\n",
       "      <td>گوشی سامسونگ A52s 5G | حافظه 128 رم 8 گیگابایت</td>\n",
       "      <td>2580</td>\n",
       "      <td>434</td>\n",
       "    </tr>\n",
       "    <tr>\n",
       "      <th>27979</th>\n",
       "      <td>8625118</td>\n",
       "      <td>کنسول بازی سونی PlayStation 5 استاندارد</td>\n",
       "      <td>5018</td>\n",
       "      <td>430</td>\n",
       "    </tr>\n",
       "  </tbody>\n",
       "</table>\n",
       "</div>"
      ],
      "text/plain": [
       "       product_id                                           pr_title  \\\n",
       "73584     6754504  گوشی اپل iPhone 13 Pro max (Not Active) | حافظ...   \n",
       "83004     9619627  گوشی شیائومی Redmi Note 11 | حافظه 128 رم 6 گی...   \n",
       "45444     8783002                        روغن نیمه جامد غنجه 4کیلویی   \n",
       "36970     3233307        گوشی سامسونگ A32  | حافظه 128 رم 6 گیگابایت   \n",
       "98939     6018703  روغن آفتابگردان غنی شده با ویتامین دی810 گرم ا...   \n",
       "2886       541613  روغن نیمه جامد حاوی امگا3 مناسب پخت و پز لادن ...   \n",
       "74443     5373323   گوشی سامسونگ S21 FE 5G | حافظه 256 رم 8 گیگاب...   \n",
       "59841     3712777  گوشی شیائومی 11T Pro 5G | حافظه 256 رم 12 گیگا...   \n",
       "36775     5187589  گوشی شیائومی Poco F3 5G | حافظه 256 رم 8 گیگابایت   \n",
       "94666     9634256          گوشی سامسونگ A13 | حافظه 64 رم 4 گیگابایت   \n",
       "10194     9385946  گوشی اپل (استوک) iPhone 11 Pro | حافظه 256 گیگ...   \n",
       "58148     6018876  گوشی سامسونگ S22 Ultra 5G | حافظه 256 رم 12 گی...   \n",
       "60745     9193664    گوشی سامسونگ A12 Nacho | حافظه 64 رم 4 گیگابایت   \n",
       "91456     5683508  گوشی شیائومی Redmi Note 11 Pro | حافظه 128 رم ...   \n",
       "97667     2783029         گوشی سامسونگ A52 | حافظه 128 رم 8 گیگابایت   \n",
       "21493     7315523  کنسول بازی مایکروسافت Xbox Series S | حافظه 51...   \n",
       "10454     2566030    گوشی اپل (استوک) iPhone 11 | حافظه 128 گیگابایت   \n",
       "36808      253379  گوشی شیائومی POCO X3 Pro | حافظه 256 رم 8 گیگا...   \n",
       "57056     1078897     گوشی سامسونگ A52s 5G | حافظه 128 رم 8 گیگابایت   \n",
       "27979     8625118            کنسول بازی سونی PlayStation 5 استاندارد   \n",
       "\n",
       "       pr_category_id  counts  \n",
       "73584            2580     932  \n",
       "83004            2580     910  \n",
       "45444            3110     866  \n",
       "36970            2580     705  \n",
       "98939            3110     665  \n",
       "2886             3110     654  \n",
       "74443            2580     601  \n",
       "59841            2580     576  \n",
       "36775            2580     574  \n",
       "94666            2580     556  \n",
       "10194            2580     553  \n",
       "58148            2580     540  \n",
       "60745            2580     516  \n",
       "91456            2580     513  \n",
       "97667            2580     494  \n",
       "21493            8816     484  \n",
       "10454            2580     481  \n",
       "36808            2580     476  \n",
       "57056            2580     434  \n",
       "27979            5018     430  "
      ]
     },
     "execution_count": 232,
     "metadata": {},
     "output_type": "execute_result"
    }
   ],
   "source": [
    "most_clicked_pr = pd.merge(product_renamed,pr_grouped, left_on='product_id', right_index=True, how='inner').sort_values(by='counts', ascending=False)\n",
    "most_clicked_pr[:20]\n",
    "#join products with pr_grouped for title and category id"
   ]
  },
  {
   "cell_type": "markdown",
   "id": "2fd84446-488e-452a-b557-94754b50709c",
   "metadata": {
    "tags": []
   },
   "source": [
    "### 🚩Most clicked categories\n",
    "\n",
    "And finally, we would like to know which categories of the products have the most clicks. In other words, we would like to find out products of which categories have gotten the most clicks in total. Let's find the top 10 most clicked categories, including the ID and title of the categories as well as the total number of clicks for each of those categories:"
   ]
  },
  {
   "cell_type": "markdown",
   "id": "3a52f2dc-f667-49d5-aaff-d63d21b44476",
   "metadata": {},
   "source": [
    "**Write the answer below:**  \n",
    "(Hint: again, to calculate this, we need to combine the information of multiple dataframes... actually, all of them!)"
   ]
  },
  {
   "cell_type": "code",
   "execution_count": 233,
   "id": "6bdb730a-76d4-4357-a6fe-33200b4390dd",
   "metadata": {},
   "outputs": [
    {
     "data": {
      "text/html": [
       "<div>\n",
       "<style scoped>\n",
       "    .dataframe tbody tr th:only-of-type {\n",
       "        vertical-align: middle;\n",
       "    }\n",
       "\n",
       "    .dataframe tbody tr th {\n",
       "        vertical-align: top;\n",
       "    }\n",
       "\n",
       "    .dataframe thead th {\n",
       "        text-align: right;\n",
       "    }\n",
       "</style>\n",
       "<table border=\"1\" class=\"dataframe\">\n",
       "  <thead>\n",
       "    <tr style=\"text-align: right;\">\n",
       "      <th></th>\n",
       "      <th>counts</th>\n",
       "      <th>title</th>\n",
       "      <th>id</th>\n",
       "    </tr>\n",
       "  </thead>\n",
       "  <tbody>\n",
       "    <tr>\n",
       "      <th>0</th>\n",
       "      <td>42518</td>\n",
       "      <td>گوشی موبایل</td>\n",
       "      <td>2580</td>\n",
       "    </tr>\n",
       "    <tr>\n",
       "      <th>37</th>\n",
       "      <td>7280</td>\n",
       "      <td>روغن خوراکی</td>\n",
       "      <td>3110</td>\n",
       "    </tr>\n",
       "    <tr>\n",
       "      <th>2</th>\n",
       "      <td>4986</td>\n",
       "      <td>هدفون، هدست و هندزفری</td>\n",
       "      <td>1092</td>\n",
       "    </tr>\n",
       "    <tr>\n",
       "      <th>89</th>\n",
       "      <td>4560</td>\n",
       "      <td>لپ تاپ و نوت بوک</td>\n",
       "      <td>8564</td>\n",
       "    </tr>\n",
       "    <tr>\n",
       "      <th>787</th>\n",
       "      <td>2978</td>\n",
       "      <td>تلویزیون</td>\n",
       "      <td>2999</td>\n",
       "    </tr>\n",
       "    <tr>\n",
       "      <th>1656</th>\n",
       "      <td>2971</td>\n",
       "      <td>کیف و کاور گوشی</td>\n",
       "      <td>9663</td>\n",
       "    </tr>\n",
       "    <tr>\n",
       "      <th>1453</th>\n",
       "      <td>2852</td>\n",
       "      <td>کارت گرافیک</td>\n",
       "      <td>820</td>\n",
       "    </tr>\n",
       "    <tr>\n",
       "      <th>6</th>\n",
       "      <td>2633</td>\n",
       "      <td>ساعت و مچ بند هوشمند</td>\n",
       "      <td>3424</td>\n",
       "    </tr>\n",
       "    <tr>\n",
       "      <th>9</th>\n",
       "      <td>2422</td>\n",
       "      <td>کتاب و مجلات</td>\n",
       "      <td>8197</td>\n",
       "    </tr>\n",
       "    <tr>\n",
       "      <th>1696</th>\n",
       "      <td>2098</td>\n",
       "      <td>ماشین اصلاح و ریش‌ تراش</td>\n",
       "      <td>3064</td>\n",
       "    </tr>\n",
       "  </tbody>\n",
       "</table>\n",
       "</div>"
      ],
      "text/plain": [
       "      counts                    title    id\n",
       "0      42518              گوشی موبایل  2580\n",
       "37      7280              روغن خوراکی  3110\n",
       "2       4986    هدفون، هدست و هندزفری  1092\n",
       "89      4560         لپ تاپ و نوت بوک  8564\n",
       "787     2978                 تلویزیون  2999\n",
       "1656    2971          کیف و کاور گوشی  9663\n",
       "1453    2852              کارت گرافیک   820\n",
       "6       2633     ساعت و مچ بند هوشمند  3424\n",
       "9       2422             کتاب و مجلات  8197\n",
       "1696    2098  ماشین اصلاح و ریش‌ تراش  3064"
      ]
     },
     "execution_count": 233,
     "metadata": {},
     "output_type": "execute_result"
    }
   ],
   "source": [
    "most_clicked_cat = most_clicked_pr.groupby('pr_category_id').sum() # counts = number of clicks per category\n",
    "\n",
    "pd.merge(most_clicked_cat, categories, left_index=True, right_on='id').sort_values(by='counts', ascending=False)[['counts','title','id']][:10]\n"
   ]
  },
  {
   "cell_type": "code",
   "execution_count": null,
   "id": "dcfd907c",
   "metadata": {},
   "outputs": [],
   "source": []
  }
 ],
 "metadata": {
  "kernelspec": {
   "display_name": "Python 3.8.5 64-bit",
   "language": "python",
   "name": "python3"
  },
  "language_info": {
   "codemirror_mode": {
    "name": "ipython",
    "version": 3
   },
   "file_extension": ".py",
   "mimetype": "text/x-python",
   "name": "python",
   "nbconvert_exporter": "python",
   "pygments_lexer": "ipython3",
   "version": "3.8.5"
  },
  "vscode": {
   "interpreter": {
    "hash": "aee8b7b246df8f9039afb4144a1f6fd8d2ca17a180786b69acc140d282b71a49"
   }
  }
 },
 "nbformat": 4,
 "nbformat_minor": 5
}
